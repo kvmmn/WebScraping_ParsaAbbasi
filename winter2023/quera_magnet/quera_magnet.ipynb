{
 "cells": [
  {
   "attachments": {},
   "cell_type": "markdown",
   "metadata": {},
   "source": [
    "<center>\n",
    "    <h2 style=\"color:#0099cc\">\n",
    "        <b>\n",
    "            Analyzing the scraped data from Quera Magnet\n",
    "        </b>\n",
    "    </h2>\n",
    "    <p style=\"color:#0099cc\">Presented by <i>Parsa Abbasi</i> at Quera Data Analysis Bootcamp | <i>January 2023<i></p>\n",
    "</center>"
   ]
  },
  {
   "attachments": {},
   "cell_type": "markdown",
   "metadata": {},
   "source": [
    "## Libraries"
   ]
  },
  {
   "cell_type": "code",
   "execution_count": 1,
   "metadata": {},
   "outputs": [],
   "source": [
    "import numpy as np\n",
    "import pandas as pd"
   ]
  },
  {
   "attachments": {},
   "cell_type": "markdown",
   "metadata": {},
   "source": [
    "## Read json file as a <code>DataFrame</code>"
   ]
  },
  {
   "cell_type": "code",
   "execution_count": 2,
   "metadata": {},
   "outputs": [],
   "source": [
    "data = pd.read_json('quera_magnet.json')"
   ]
  },
  {
   "cell_type": "code",
   "execution_count": 3,
   "metadata": {},
   "outputs": [
    {
     "name": "stdout",
     "output_type": "stream",
     "text": [
      "Number of jobs: 223\n"
     ]
    }
   ],
   "source": [
    "print('Number of jobs:', len(data))"
   ]
  },
  {
   "cell_type": "code",
   "execution_count": 4,
   "metadata": {},
   "outputs": [
    {
     "data": {
      "text/html": [
       "<div>\n",
       "<style scoped>\n",
       "    .dataframe tbody tr th:only-of-type {\n",
       "        vertical-align: middle;\n",
       "    }\n",
       "\n",
       "    .dataframe tbody tr th {\n",
       "        vertical-align: top;\n",
       "    }\n",
       "\n",
       "    .dataframe thead th {\n",
       "        text-align: right;\n",
       "    }\n",
       "</style>\n",
       "<table border=\"1\" class=\"dataframe\">\n",
       "  <thead>\n",
       "    <tr style=\"text-align: right;\">\n",
       "      <th></th>\n",
       "      <th>title</th>\n",
       "      <th>url</th>\n",
       "      <th>date</th>\n",
       "      <th>company</th>\n",
       "      <th>location</th>\n",
       "      <th>level</th>\n",
       "      <th>type</th>\n",
       "      <th>salary</th>\n",
       "      <th>remote</th>\n",
       "      <th>technologies</th>\n",
       "      <th>sub_technologies</th>\n",
       "    </tr>\n",
       "  </thead>\n",
       "  <tbody>\n",
       "    <tr>\n",
       "      <th>0</th>\n",
       "      <td>استخدام Senior Back-end Developer (Python)</td>\n",
       "      <td>https://quera.org//magnet/jobs/69rqj</td>\n",
       "      <td>۵ دی ۱۴۰۱،‏ ۹:۲۷</td>\n",
       "      <td>Raika Research</td>\n",
       "      <td>None</td>\n",
       "      <td>Senior</td>\n",
       "      <td>تمام‌وقت</td>\n",
       "      <td>حقوق ۳۵,۰۰۰,۰۰۰ تا ۴۰,۰۰۰,۰۰۰</td>\n",
       "      <td>امکان دورکاری</td>\n",
       "      <td>[Python, Django]</td>\n",
       "      <td>[Linux]</td>\n",
       "    </tr>\n",
       "    <tr>\n",
       "      <th>1</th>\n",
       "      <td>استخدام Senior Back-end Developer (Django)</td>\n",
       "      <td>https://quera.org//magnet/jobs/d6qjv</td>\n",
       "      <td>۵ آذر ۱۴۰۱،‏ ۱۳:۱۹</td>\n",
       "      <td>ویترین</td>\n",
       "      <td>تهران</td>\n",
       "      <td>Senior</td>\n",
       "      <td>تمام‌وقت</td>\n",
       "      <td>حقوق ۳۰,۰۰۰,۰۰۰ تا ۳۵,۰۰۰,۰۰۰</td>\n",
       "      <td>None</td>\n",
       "      <td>[Python, Django]</td>\n",
       "      <td>[]</td>\n",
       "    </tr>\n",
       "    <tr>\n",
       "      <th>2</th>\n",
       "      <td>استخدام Senior Software Engineer(Django)</td>\n",
       "      <td>https://quera.org//magnet/jobs/69xvp</td>\n",
       "      <td>۵ آذر ۱۴۰۱،‏ ۱۳:۱۵</td>\n",
       "      <td>بهترینو</td>\n",
       "      <td>تهران</td>\n",
       "      <td>Senior</td>\n",
       "      <td>تمام‌وقت</td>\n",
       "      <td>حقوق ۳۰,۰۰۰,۰۰۰ تا ۳۵,۰۰۰,۰۰۰</td>\n",
       "      <td>None</td>\n",
       "      <td>[Python, Django]</td>\n",
       "      <td>[]</td>\n",
       "    </tr>\n",
       "    <tr>\n",
       "      <th>3</th>\n",
       "      <td>استخدام توسعه‌دهنده ارشد Front_end</td>\n",
       "      <td>https://quera.org//magnet/jobs/x6x86</td>\n",
       "      <td>۲۲ آذر ۱۴۰۱،‏ ۲۲:۱۶</td>\n",
       "      <td>Goldis</td>\n",
       "      <td>تهران</td>\n",
       "      <td>Senior</td>\n",
       "      <td>تمام‌وقت</td>\n",
       "      <td>حقوق ۲۵,۰۰۰,۰۰۰ تا ۳۰,۰۰۰,۰۰۰</td>\n",
       "      <td>None</td>\n",
       "      <td>[HTML, CSS]</td>\n",
       "      <td>[JavaScript, React, Vue.js]</td>\n",
       "    </tr>\n",
       "    <tr>\n",
       "      <th>4</th>\n",
       "      <td>استخدام تحلیلگر داده</td>\n",
       "      <td>https://quera.org//magnet/jobs/qjgd8</td>\n",
       "      <td>۱۸ آذر ۱۴۰۱،‏ ۲۰:۳۷</td>\n",
       "      <td>اندیشکده مرصاد</td>\n",
       "      <td>قم</td>\n",
       "      <td>Junior</td>\n",
       "      <td>پروژه‌ای</td>\n",
       "      <td>حقوق ۲۵,۰۰۰,۰۰۰ تا ۳۰,۰۰۰,۰۰۰</td>\n",
       "      <td>امکان دورکاری</td>\n",
       "      <td>[Python]</td>\n",
       "      <td>[SQL]</td>\n",
       "    </tr>\n",
       "  </tbody>\n",
       "</table>\n",
       "</div>"
      ],
      "text/plain": [
       "                                        title  \\\n",
       "0  استخدام Senior Back-end Developer (Python)   \n",
       "1  استخدام Senior Back-end Developer (Django)   \n",
       "2    استخدام Senior Software Engineer(Django)   \n",
       "3          استخدام توسعه‌دهنده ارشد Front_end   \n",
       "4                        استخدام تحلیلگر داده   \n",
       "\n",
       "                                    url                 date         company  \\\n",
       "0  https://quera.org//magnet/jobs/69rqj     ۵ دی ۱۴۰۱،‏ ۹:۲۷  Raika Research   \n",
       "1  https://quera.org//magnet/jobs/d6qjv   ۵ آذر ۱۴۰۱،‏ ۱۳:۱۹          ویترین   \n",
       "2  https://quera.org//magnet/jobs/69xvp   ۵ آذر ۱۴۰۱،‏ ۱۳:۱۵         بهترینو   \n",
       "3  https://quera.org//magnet/jobs/x6x86  ۲۲ آذر ۱۴۰۱،‏ ۲۲:۱۶          Goldis   \n",
       "4  https://quera.org//magnet/jobs/qjgd8  ۱۸ آذر ۱۴۰۱،‏ ۲۰:۳۷  اندیشکده مرصاد   \n",
       "\n",
       "  location   level      type                         salary         remote  \\\n",
       "0     None  Senior  تمام‌وقت  حقوق ۳۵,۰۰۰,۰۰۰ تا ۴۰,۰۰۰,۰۰۰  امکان دورکاری   \n",
       "1    تهران  Senior  تمام‌وقت  حقوق ۳۰,۰۰۰,۰۰۰ تا ۳۵,۰۰۰,۰۰۰           None   \n",
       "2    تهران  Senior  تمام‌وقت  حقوق ۳۰,۰۰۰,۰۰۰ تا ۳۵,۰۰۰,۰۰۰           None   \n",
       "3    تهران  Senior  تمام‌وقت  حقوق ۲۵,۰۰۰,۰۰۰ تا ۳۰,۰۰۰,۰۰۰           None   \n",
       "4       قم  Junior  پروژه‌ای  حقوق ۲۵,۰۰۰,۰۰۰ تا ۳۰,۰۰۰,۰۰۰  امکان دورکاری   \n",
       "\n",
       "       technologies             sub_technologies  \n",
       "0  [Python, Django]                      [Linux]  \n",
       "1  [Python, Django]                           []  \n",
       "2  [Python, Django]                           []  \n",
       "3       [HTML, CSS]  [JavaScript, React, Vue.js]  \n",
       "4          [Python]                        [SQL]  "
      ]
     },
     "execution_count": 4,
     "metadata": {},
     "output_type": "execute_result"
    }
   ],
   "source": [
    "data.head()"
   ]
  },
  {
   "cell_type": "code",
   "execution_count": 5,
   "metadata": {},
   "outputs": [
    {
     "data": {
      "text/html": [
       "<div>\n",
       "<style scoped>\n",
       "    .dataframe tbody tr th:only-of-type {\n",
       "        vertical-align: middle;\n",
       "    }\n",
       "\n",
       "    .dataframe tbody tr th {\n",
       "        vertical-align: top;\n",
       "    }\n",
       "\n",
       "    .dataframe thead th {\n",
       "        text-align: right;\n",
       "    }\n",
       "</style>\n",
       "<table border=\"1\" class=\"dataframe\">\n",
       "  <thead>\n",
       "    <tr style=\"text-align: right;\">\n",
       "      <th></th>\n",
       "      <th>title</th>\n",
       "      <th>url</th>\n",
       "      <th>date</th>\n",
       "      <th>company</th>\n",
       "      <th>location</th>\n",
       "      <th>level</th>\n",
       "      <th>type</th>\n",
       "      <th>salary</th>\n",
       "      <th>remote</th>\n",
       "      <th>technologies</th>\n",
       "      <th>sub_technologies</th>\n",
       "    </tr>\n",
       "  </thead>\n",
       "  <tbody>\n",
       "    <tr>\n",
       "      <th>218</th>\n",
       "      <td>استخدام برنامه‌نویس Java</td>\n",
       "      <td>https://quera.org//magnet/jobs/69jmp</td>\n",
       "      <td>۱۱ آبان ۱۴۰۱،‏ ۱۵:۰۴</td>\n",
       "      <td>پردازش الکترونیک راشد سامانه</td>\n",
       "      <td>تهران</td>\n",
       "      <td>Senior</td>\n",
       "      <td>تمام‌وقت</td>\n",
       "      <td>None</td>\n",
       "      <td>None</td>\n",
       "      <td>[Java]</td>\n",
       "      <td>[Jira, Scrum]</td>\n",
       "    </tr>\n",
       "    <tr>\n",
       "      <th>219</th>\n",
       "      <td>استخدام برنامه‌نویس Full-Stack وب و ویندوز</td>\n",
       "      <td>https://quera.org//magnet/jobs/d68jv</td>\n",
       "      <td>۱۱ آبان ۱۴۰۱،‏ ۹:۱۸</td>\n",
       "      <td>شركت ايران خودرو</td>\n",
       "      <td>تهران</td>\n",
       "      <td>Junior</td>\n",
       "      <td>تمام‌وقت</td>\n",
       "      <td>None</td>\n",
       "      <td>None</td>\n",
       "      <td>[C#]</td>\n",
       "      <td>[CSS, SQL Server, ASP.NET MVC, Entity Framework]</td>\n",
       "    </tr>\n",
       "    <tr>\n",
       "      <th>220</th>\n",
       "      <td>استخدام برنامه‌نویس (Front-end (Angular (رشت)</td>\n",
       "      <td>https://quera.org//magnet/jobs/69jvp</td>\n",
       "      <td>۱۱ آبان ۱۴۰۱،‏ ۹:۱۴</td>\n",
       "      <td>NilaSoft</td>\n",
       "      <td>رشت</td>\n",
       "      <td>Junior</td>\n",
       "      <td>تمام‌وقت</td>\n",
       "      <td>None</td>\n",
       "      <td>امکان دورکاری</td>\n",
       "      <td>[Angular]</td>\n",
       "      <td>[JavaScript, HTML, CSS, TypeScript]</td>\n",
       "    </tr>\n",
       "    <tr>\n",
       "      <th>221</th>\n",
       "      <td>استخدام پشتیبان / توسعه‌دهنده Back-end</td>\n",
       "      <td>https://quera.org//magnet/jobs/76kqd</td>\n",
       "      <td>۱۰ آبان ۱۴۰۱،‏ ۱۴:۳۷</td>\n",
       "      <td>کالاوییو</td>\n",
       "      <td>تهران</td>\n",
       "      <td>Junior</td>\n",
       "      <td>تمام‌وقت</td>\n",
       "      <td>None</td>\n",
       "      <td>None</td>\n",
       "      <td>[C#, PHP]</td>\n",
       "      <td>[MySQL, ASP.NET]</td>\n",
       "    </tr>\n",
       "    <tr>\n",
       "      <th>222</th>\n",
       "      <td>استخدام توسعه‌دهنده موبایل React Native</td>\n",
       "      <td>https://quera.org//magnet/jobs/x6jm9</td>\n",
       "      <td>۹ آبان ۱۴۰۱،‏ ۱۵:۰۱</td>\n",
       "      <td>شرکت کاروان ایرانیان نواندیش (کاینو)</td>\n",
       "      <td>تهران</td>\n",
       "      <td>Junior</td>\n",
       "      <td>تمام‌وقت</td>\n",
       "      <td>None</td>\n",
       "      <td>None</td>\n",
       "      <td>[React Native]</td>\n",
       "      <td>[JavaScript, TypeScript]</td>\n",
       "    </tr>\n",
       "  </tbody>\n",
       "</table>\n",
       "</div>"
      ],
      "text/plain": [
       "                                             title  \\\n",
       "218                       استخدام برنامه‌نویس Java   \n",
       "219     استخدام برنامه‌نویس Full-Stack وب و ویندوز   \n",
       "220  استخدام برنامه‌نویس (Front-end (Angular (رشت)   \n",
       "221         استخدام پشتیبان / توسعه‌دهنده Back-end   \n",
       "222        استخدام توسعه‌دهنده موبایل React Native   \n",
       "\n",
       "                                      url                  date  \\\n",
       "218  https://quera.org//magnet/jobs/69jmp  ۱۱ آبان ۱۴۰۱،‏ ۱۵:۰۴   \n",
       "219  https://quera.org//magnet/jobs/d68jv   ۱۱ آبان ۱۴۰۱،‏ ۹:۱۸   \n",
       "220  https://quera.org//magnet/jobs/69jvp   ۱۱ آبان ۱۴۰۱،‏ ۹:۱۴   \n",
       "221  https://quera.org//magnet/jobs/76kqd  ۱۰ آبان ۱۴۰۱،‏ ۱۴:۳۷   \n",
       "222  https://quera.org//magnet/jobs/x6jm9   ۹ آبان ۱۴۰۱،‏ ۱۵:۰۱   \n",
       "\n",
       "                                  company location   level      type salary  \\\n",
       "218          پردازش الکترونیک راشد سامانه    تهران  Senior  تمام‌وقت   None   \n",
       "219                      شركت ايران خودرو    تهران  Junior  تمام‌وقت   None   \n",
       "220                              NilaSoft      رشت  Junior  تمام‌وقت   None   \n",
       "221                              کالاوییو    تهران  Junior  تمام‌وقت   None   \n",
       "222  شرکت کاروان ایرانیان نواندیش (کاینو)    تهران  Junior  تمام‌وقت   None   \n",
       "\n",
       "            remote    technologies  \\\n",
       "218           None          [Java]   \n",
       "219           None            [C#]   \n",
       "220  امکان دورکاری       [Angular]   \n",
       "221           None       [C#, PHP]   \n",
       "222           None  [React Native]   \n",
       "\n",
       "                                     sub_technologies  \n",
       "218                                     [Jira, Scrum]  \n",
       "219  [CSS, SQL Server, ASP.NET MVC, Entity Framework]  \n",
       "220               [JavaScript, HTML, CSS, TypeScript]  \n",
       "221                                  [MySQL, ASP.NET]  \n",
       "222                          [JavaScript, TypeScript]  "
      ]
     },
     "execution_count": 5,
     "metadata": {},
     "output_type": "execute_result"
    }
   ],
   "source": [
    "data.tail()"
   ]
  },
  {
   "attachments": {},
   "cell_type": "markdown",
   "metadata": {},
   "source": [
    "## Checking the <code>NAN</code> values"
   ]
  },
  {
   "cell_type": "code",
   "execution_count": 6,
   "metadata": {},
   "outputs": [
    {
     "data": {
      "text/plain": [
       "title                 0\n",
       "url                   0\n",
       "date                  0\n",
       "company               0\n",
       "location             52\n",
       "level                 0\n",
       "type                  0\n",
       "salary              185\n",
       "remote              155\n",
       "technologies          0\n",
       "sub_technologies      0\n",
       "dtype: int64"
      ]
     },
     "execution_count": 6,
     "metadata": {},
     "output_type": "execute_result"
    }
   ],
   "source": [
    "data.isnull().sum()"
   ]
  },
  {
   "attachments": {},
   "cell_type": "markdown",
   "metadata": {},
   "source": [
    "## Analyzing"
   ]
  },
  {
   "attachments": {},
   "cell_type": "markdown",
   "metadata": {},
   "source": [
    "### 🏙️ Location"
   ]
  },
  {
   "cell_type": "code",
   "execution_count": 7,
   "metadata": {},
   "outputs": [
    {
     "data": {
      "text/plain": [
       "تهران       124\n",
       "اصفهان       22\n",
       "مشهد          4\n",
       "رشت           4\n",
       "گرگان         4\n",
       "اسلامشهر      3\n",
       "تبریز         2\n",
       "یزد           2\n",
       "شیراز         2\n",
       "قم            1\n",
       "ایلام         1\n",
       "خرم آباد      1\n",
       "ساری          1\n",
       "Name: location, dtype: int64"
      ]
     },
     "execution_count": 7,
     "metadata": {},
     "output_type": "execute_result"
    }
   ],
   "source": [
    "data['location'].value_counts()"
   ]
  },
  {
   "attachments": {},
   "cell_type": "markdown",
   "metadata": {},
   "source": [
    "### 🎚️ Level"
   ]
  },
  {
   "cell_type": "code",
   "execution_count": 8,
   "metadata": {},
   "outputs": [
    {
     "data": {
      "text/plain": [
       "Senior    118\n",
       "Junior     87\n",
       "Intern     17\n",
       "Lead        1\n",
       "Name: level, dtype: int64"
      ]
     },
     "execution_count": 8,
     "metadata": {},
     "output_type": "execute_result"
    }
   ],
   "source": [
    "data['level'].value_counts()"
   ]
  },
  {
   "attachments": {},
   "cell_type": "markdown",
   "metadata": {},
   "source": [
    "### ⏱️ Type"
   ]
  },
  {
   "cell_type": "code",
   "execution_count": 9,
   "metadata": {},
   "outputs": [
    {
     "data": {
      "text/plain": [
       "تمام‌وقت    195\n",
       "پاره‌وقت     20\n",
       "پروژه‌ای      8\n",
       "Name: type, dtype: int64"
      ]
     },
     "execution_count": 9,
     "metadata": {},
     "output_type": "execute_result"
    }
   ],
   "source": [
    "data['type'].value_counts()"
   ]
  },
  {
   "attachments": {},
   "cell_type": "markdown",
   "metadata": {},
   "source": [
    "### 🏠 Remote"
   ]
  },
  {
   "cell_type": "code",
   "execution_count": 10,
   "metadata": {},
   "outputs": [
    {
     "name": "stdout",
     "output_type": "stream",
     "text": [
      "68 out of 223 jobs support remote work!\n"
     ]
    }
   ],
   "source": [
    "print(data['remote'].count(), 'out of', len(data), 'jobs support remote work!')"
   ]
  },
  {
   "attachments": {},
   "cell_type": "markdown",
   "metadata": {},
   "source": [
    "### 🤖 Technologies"
   ]
  },
  {
   "cell_type": "code",
   "execution_count": 11,
   "metadata": {},
   "outputs": [
    {
     "data": {
      "text/plain": [
       "[('React', 30),\n",
       " ('JavaScript', 27),\n",
       " ('Python', 23),\n",
       " ('C#', 21),\n",
       " ('Java', 17),\n",
       " ('PHP', 15),\n",
       " ('Laravel', 11),\n",
       " ('Django', 9),\n",
       " ('Vue.js', 9),\n",
       " ('SQL', 8)]"
      ]
     },
     "execution_count": 11,
     "metadata": {},
     "output_type": "execute_result"
    }
   ],
   "source": [
    "from collections import Counter\n",
    "\n",
    "all_tech = []\n",
    "for technologies in data['technologies']:\n",
    "    all_tech.extend(technologies)\n",
    "    \n",
    "Counter(all_tech).most_common(10)"
   ]
  },
  {
   "attachments": {},
   "cell_type": "markdown",
   "metadata": {},
   "source": [
    "### 🦾 Sub-technologies"
   ]
  },
  {
   "cell_type": "code",
   "execution_count": 12,
   "metadata": {},
   "outputs": [
    {
     "data": {
      "text/plain": [
       "[('JavaScript', 21),\n",
       " ('HTML', 21),\n",
       " ('CSS', 21),\n",
       " ('Git', 20),\n",
       " ('Linux', 19),\n",
       " ('MySQL', 19),\n",
       " ('SQL', 18),\n",
       " ('TypeScript', 12),\n",
       " ('Docker', 12),\n",
       " ('React', 11)]"
      ]
     },
     "execution_count": 12,
     "metadata": {},
     "output_type": "execute_result"
    }
   ],
   "source": [
    "all_sub_tech = []\n",
    "for sub_technologies in data['sub_technologies']:\n",
    "    all_sub_tech.extend(sub_technologies)\n",
    "    \n",
    "Counter(all_sub_tech).most_common(10)"
   ]
  },
  {
   "attachments": {},
   "cell_type": "markdown",
   "metadata": {},
   "source": [
    "### 🦾🤖 Technologies and Sub-technologies"
   ]
  },
  {
   "cell_type": "code",
   "execution_count": 13,
   "metadata": {},
   "outputs": [
    {
     "data": {
      "text/plain": [
       "[('JavaScript', 48),\n",
       " ('React', 41),\n",
       " ('C#', 30),\n",
       " ('Python', 26),\n",
       " ('SQL', 26),\n",
       " ('Linux', 25),\n",
       " ('HTML', 24),\n",
       " ('CSS', 24),\n",
       " ('MySQL', 22),\n",
       " ('Git', 21),\n",
       " ('Java', 20),\n",
       " ('PHP', 19),\n",
       " ('Vue.js', 15),\n",
       " ('Docker', 15),\n",
       " ('Laravel', 14),\n",
       " ('TypeScript', 14),\n",
       " ('HTML5', 12),\n",
       " ('.NET', 12),\n",
       " ('SQL Server', 11),\n",
       " ('Django', 10)]"
      ]
     },
     "execution_count": 13,
     "metadata": {},
     "output_type": "execute_result"
    }
   ],
   "source": [
    "from collections import Counter\n",
    "together = all_tech + all_sub_tech\n",
    "Counter(together).most_common(20)"
   ]
  }
 ],
 "metadata": {
  "kernelspec": {
   "display_name": "quera",
   "language": "python",
   "name": "python3"
  },
  "language_info": {
   "codemirror_mode": {
    "name": "ipython",
    "version": 3
   },
   "file_extension": ".py",
   "mimetype": "text/x-python",
   "name": "python",
   "nbconvert_exporter": "python",
   "pygments_lexer": "ipython3",
   "version": "3.9.7"
  },
  "orig_nbformat": 4,
  "vscode": {
   "interpreter": {
    "hash": "6a29b8f2e1e8b11f80c3820468461bcdbea6564508a235f61a46eeb59d48b308"
   }
  }
 },
 "nbformat": 4,
 "nbformat_minor": 2
}
