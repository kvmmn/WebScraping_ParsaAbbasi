{
 "cells": [
  {
   "attachments": {},
   "cell_type": "markdown",
   "metadata": {},
   "source": [
    "<center>\n",
    "    <h1 style=\"color:#0099cc\">\n",
    "        <b>\n",
    "            Introduction to BeautifulSoup\n",
    "        </b>\n",
    "    </h1>\n",
    "    <p style=\"color:#0099cc\">Presented by <i>Parsa Abbasi</i> at Quera Data Analysis Bootcamp | <i>January 2023<i></p>\n",
    "</center>"
   ]
  },
  {
   "attachments": {},
   "cell_type": "markdown",
   "metadata": {},
   "source": [
    "# The requests library"
   ]
  },
  {
   "attachments": {},
   "cell_type": "markdown",
   "metadata": {},
   "source": [
    "The requests library will make a <code>GET</code> request to a web server, which will download the HTML contents of a given web page for us. "
   ]
  },
  {
   "cell_type": "code",
   "execution_count": 1,
   "metadata": {},
   "outputs": [],
   "source": [
    "import requests\n",
    "page = requests.get(\"https://stallman.org/\")"
   ]
  },
  {
   "attachments": {},
   "cell_type": "markdown",
   "metadata": {},
   "source": [
    "## Status codes"
   ]
  },
  {
   "attachments": {},
   "cell_type": "markdown",
   "metadata": {},
   "source": [
    "HTTP response status codes indicate whether a specific HTTP request has been successfully completed. Responses are grouped in five classes:\n",
    "\n",
    "*   Informational responses (<code>100</code> – <code>199</code>)\n",
    "*   Successful responses    (<code>200</code> – <code>299</code>)\n",
    "*   Redirection messages    (<code>300</code> – <code>399</code>)\n",
    "*   Client error responses  (<code>400</code> – <code>499</code>)\n",
    "*   Server error responses  (<code>500</code> – <code>599</code>)\n",
    "\n",
    "([More details](https://developer.mozilla.org/en-US/docs/Web/HTTP/Status))"
   ]
  },
  {
   "cell_type": "code",
   "execution_count": 2,
   "metadata": {},
   "outputs": [
    {
     "data": {
      "text/plain": [
       "200"
      ]
     },
     "execution_count": 2,
     "metadata": {},
     "output_type": "execute_result"
    }
   ],
   "source": [
    "page.status_code"
   ]
  },
  {
   "attachments": {},
   "cell_type": "markdown",
   "metadata": {},
   "source": [
    "## Page content"
   ]
  },
  {
   "attachments": {},
   "cell_type": "markdown",
   "metadata": {},
   "source": [
    "We can print out the HTML content of the page using the <code>content</code> property:"
   ]
  },
  {
   "cell_type": "code",
   "execution_count": null,
   "metadata": {},
   "outputs": [],
   "source": [
    "page.content"
   ]
  },
  {
   "attachments": {},
   "cell_type": "markdown",
   "metadata": {},
   "source": [
    "# BeautifulSoup"
   ]
  },
  {
   "attachments": {},
   "cell_type": "markdown",
   "metadata": {},
   "source": [
    "We can use the <code>BeautifulSoup</code> library to parse the HTML document.\n",
    "\n",
    "You can install Beautiful Soup 4 with <code>pip install beautifulsoup4</code>. ([Documentation](https://www.crummy.com/software/BeautifulSoup/))"
   ]
  },
  {
   "cell_type": "code",
   "execution_count": 4,
   "metadata": {},
   "outputs": [],
   "source": [
    "from bs4 import BeautifulSoup\n",
    "\n",
    "soup = BeautifulSoup(page.content, 'html.parser')"
   ]
  },
  {
   "attachments": {},
   "cell_type": "markdown",
   "metadata": {},
   "source": [
    "## Prettified view"
   ]
  },
  {
   "cell_type": "code",
   "execution_count": null,
   "metadata": {},
   "outputs": [],
   "source": [
    "print(soup.prettify())"
   ]
  },
  {
   "attachments": {},
   "cell_type": "markdown",
   "metadata": {},
   "source": [
    "## Finding all instances of a tag"
   ]
  },
  {
   "attachments": {},
   "cell_type": "markdown",
   "metadata": {},
   "source": [
    "🔍 Suppose we want to extract all the links in this webpage:"
   ]
  },
  {
   "cell_type": "code",
   "execution_count": 5,
   "metadata": {},
   "outputs": [
    {
     "name": "stdout",
     "output_type": "stream",
     "text": [
      "Number of links: 350\n"
     ]
    }
   ],
   "source": [
    "links = soup.find_all('a')\n",
    "print('Number of links:', len(links))"
   ]
  },
  {
   "attachments": {},
   "cell_type": "markdown",
   "metadata": {},
   "source": [
    "Note that <code>find_all</code> returns a list, so we’ll have to loop through, or use list indexing."
   ]
  },
  {
   "cell_type": "code",
   "execution_count": 6,
   "metadata": {},
   "outputs": [
    {
     "data": {
      "text/plain": [
       "[<a href=\"/grav-mass.html\">Grav-Mass</a>,\n",
       " <a href=\"./grav-mass.png\"><img alt=\"A Grav-Mass tree\" src=\"./grav-mass-icon.png\"/></a>,\n",
       " <a href=\"https://stallmansupport.org\">Support me against a campaign of hatred</a>,\n",
       " <a href=\"#politics\">Political Articles</a>,\n",
       " <a class=\"nobr\" href=\"archives/polnotes.html\">Political Notes</a>,\n",
       " <a href=\"talks.html\">Talks</a>,\n",
       " <a href=\"airlines.html\">Airlines</a>,\n",
       " <a href=\"/antiglossary.html\">Anti-Glossary</a>,\n",
       " <a href=\"/archive.html\">Archive</a>,\n",
       " <a href=\"/banfacerecognition.html\">Ban face recognition</a>]"
      ]
     },
     "execution_count": 6,
     "metadata": {},
     "output_type": "execute_result"
    }
   ],
   "source": [
    "links[:10]"
   ]
  },
  {
   "attachments": {},
   "cell_type": "markdown",
   "metadata": {},
   "source": [
    "We can use <code>get_text()</code> method to extract the text of a tag."
   ]
  },
  {
   "cell_type": "code",
   "execution_count": 7,
   "metadata": {},
   "outputs": [
    {
     "data": {
      "text/plain": [
       "'Grav-Mass'"
      ]
     },
     "execution_count": 7,
     "metadata": {},
     "output_type": "execute_result"
    }
   ],
   "source": [
    "links[0].get_text()"
   ]
  },
  {
   "attachments": {},
   "cell_type": "markdown",
   "metadata": {},
   "source": [
    "We can get a dictionary of a tag attributes by calling the <code>.attrs</code>."
   ]
  },
  {
   "cell_type": "code",
   "execution_count": 10,
   "metadata": {},
   "outputs": [
    {
     "data": {
      "text/plain": [
       "{'href': '/grav-mass.html'}"
      ]
     },
     "execution_count": 10,
     "metadata": {},
     "output_type": "execute_result"
    }
   ],
   "source": [
    "links[0].attrs"
   ]
  },
  {
   "attachments": {},
   "cell_type": "markdown",
   "metadata": {},
   "source": [
    "We can get the value of an attribute using <code>get</code> method."
   ]
  },
  {
   "cell_type": "code",
   "execution_count": 8,
   "metadata": {},
   "outputs": [
    {
     "data": {
      "text/plain": [
       "'/grav-mass.html'"
      ]
     },
     "execution_count": 8,
     "metadata": {},
     "output_type": "execute_result"
    }
   ],
   "source": [
    "links[0].get('href')"
   ]
  },
  {
   "attachments": {},
   "cell_type": "markdown",
   "metadata": {},
   "source": [
    "## Finding the first appearance of a tag"
   ]
  },
  {
   "attachments": {},
   "cell_type": "markdown",
   "metadata": {},
   "source": [
    "If we only want to find the first instance of a tag, we can use the <code>find</code> method."
   ]
  },
  {
   "cell_type": "code",
   "execution_count": 11,
   "metadata": {},
   "outputs": [
    {
     "data": {
      "text/plain": [
       "<a href=\"/grav-mass.html\">Grav-Mass</a>"
      ]
     },
     "execution_count": 11,
     "metadata": {},
     "output_type": "execute_result"
    }
   ],
   "source": [
    "soup.find('a')"
   ]
  },
  {
   "attachments": {},
   "cell_type": "markdown",
   "metadata": {},
   "source": [
    "## Searching by class and id"
   ]
  },
  {
   "attachments": {},
   "cell_type": "markdown",
   "metadata": {},
   "source": [
    "We can use the <code>id</code> argument of <code>find</code> method to search for items by id."
   ]
  },
  {
   "cell_type": "code",
   "execution_count": 12,
   "metadata": {},
   "outputs": [
    {
     "data": {
      "text/plain": [
       "<div id=\"comic-container\">\n",
       "<div id=\"comic\">\n",
       "<div id=\"comic-expand\">\n",
       "<a href=\"comics.html\"><img alt=\"\" src=\"images/expand_r.png\"/></a>\n",
       "</div> <!-- END comic-expand div -->\n",
       "<a href=\"/images/so-many-candidates.jpg\">\n",
       "<img alt=\"So Many Candidates\" src=\"/images/so-many-candidates-small.jpg\"/>\n",
       "</a>\n",
       "</div> <!-- END comic div -->\n",
       "</div>"
      ]
     },
     "execution_count": 12,
     "metadata": {},
     "output_type": "execute_result"
    }
   ],
   "source": [
    "soup.find(id='comic-container')"
   ]
  },
  {
   "attachments": {},
   "cell_type": "markdown",
   "metadata": {},
   "source": [
    "We can use the <code>class_</code> argument of <code>find_all</code> method to search for items by class."
   ]
  },
  {
   "cell_type": "code",
   "execution_count": 13,
   "metadata": {},
   "outputs": [
    {
     "data": {
      "text/plain": [
       "[<div class=\"c2\">\n",
       " \n",
       " What's bad about:\n",
       " <a href=\"/airbnb.html\">Airbnb</a> |\n",
       " <a href=\"/amazon.html\">Amazon</a> |\n",
       " <a href=\"/amtrak.html\">Amtrak</a> |\n",
       " <a href=\"/ancestry.html\">Ancestry</a> |\n",
       " <a href=\"/apple.html\">Apple</a> |\n",
       " <a href=\"/cloudflare.html\">Cloudflare</a> |\n",
       " <a href=\"/discord.html\">Discord</a> |\n",
       " <a href=\"/ebooks.pdf\">Ebooks</a> |\n",
       " <a href=\"/eventbrite.html\">Eventbrite</a> |\n",
       " <a href=\"/evernote.html\">Evernote</a> |\n",
       " <a href=\"/facebook.html\">Facebook</a> |\n",
       " <a href=\"/frito-lay.html\">Frito-Lay</a> |\n",
       " <a href=\"/frontier.html\">Frontier</a> |\n",
       " <a href=\"/google.html\">Google</a> |\n",
       " <a href=\"/gofundme.html\">Gofundme</a> |\n",
       " <a href=\"/food-delivery.html\">Grubhub</a> |\n",
       " <a href=\"/intel.html\">Intel</a> |\n",
       " <a href=\"/linkedin.html\">LinkedIn</a> |\n",
       " <a href=\"/lyft.html\">Lyft</a> |\n",
       " <!-- meetup.com has the same injustices as eventbrite.com\n",
       "      and they share one page -->\n",
       " <a href=\"/eventbrite.html\">Meetup</a> |\n",
       " <a href=\"/microsoft.html\">Microsoft</a> |\n",
       " <a href=\"/netflix.html\">Netflix</a> |\n",
       " <a href=\"/patreon.html\">Patreon</a> |\n",
       " <a href=\"/pay-toilets.html\">Pay Toilets</a> |\n",
       " <a href=\"/skype.html\">Skype</a> |\n",
       " <a href=\"/slack.html\">Slack</a> |\n",
       " <a href=\"/spotify.html\">Spotify</a> |\n",
       " <a href=\"/tesla.html\">Tesla</a> |\n",
       " <a href=\"/ticketmaster.html\">Ticketmaster</a> |\n",
       " <a href=\"/twitter.html\">Twitter</a> |\n",
       " <a href=\"/uber.html\">Uber</a> |\n",
       " <a href=\"/wendys.html\">Wendy's</a> |\n",
       " <a href=\"/whatsapp.html\">WhatsApp</a> |\n",
       " <a href=\"/zoom.html\">Zoom</a><!-- |-->\n",
       " </div>]"
      ]
     },
     "execution_count": 13,
     "metadata": {},
     "output_type": "execute_result"
    }
   ],
   "source": [
    "soup.find_all(class_='c2')"
   ]
  },
  {
   "attachments": {},
   "cell_type": "markdown",
   "metadata": {},
   "source": [
    "## Searching by CSS selector"
   ]
  },
  {
   "attachments": {},
   "cell_type": "markdown",
   "metadata": {},
   "source": [
    "We can also search for items using CSS selectors. These selectors are how the CSS language allows developers to specify HTML tags to style. Here are some examples:\n",
    "\n",
    "*   <code>p a</code> — finds all <code>a</code> tags inside of a <code>p</code> tag.\n",
    "*   <code>body p a</code> — finds all <code>a</code> tags inside of a <code>p</code> tag inside of a <code>body</code> tag.\n",
    "*   <code>html body</code> — finds all <code>body</code> tags inside of an <code>html</code> tag.\n",
    "*   <code>p.outer-text</code> — finds all <code>p</code> tags with a class of <code>outer-text</code>.\n",
    "*   <code>p#first</code> — finds all <code>p</code> tags with an id of <code>first</code>.\n",
    "*   <code>body p.outer-text</code> — finds any <code>p</code> tags with a class of <code>outer-text</code> inside of a <code>body</code> tag.\n",
    "\n",
    "([Learn more about CSS selectors](https://developer.mozilla.org/en-US/docs/Learn/CSS/Building_blocks/Selectors))\n",
    "\n",
    "👨‍💻 There is an open-source chrome extension named [Selector Gadget](https://chrome.google.com/webstore/detail/selectorgadget/mhjhnkcfbdhnjickkkdbjoemdmbfginb) that makes CSS selector generation and discovery on complicated sites a breeze.\n",
    "\n",
    "🔍 Suppose we want to find which services [Richard Stallman](https://en.wikipedia.org/wiki/Richard_Stallman) has written a negative review about."
   ]
  },
  {
   "cell_type": "code",
   "execution_count": 24,
   "metadata": {},
   "outputs": [
    {
     "data": {
      "text/plain": [
       "[<a href=\"/airbnb.html\">Airbnb</a>,\n",
       " <a href=\"/amazon.html\">Amazon</a>,\n",
       " <a href=\"/amtrak.html\">Amtrak</a>,\n",
       " <a href=\"/ancestry.html\">Ancestry</a>,\n",
       " <a href=\"/apple.html\">Apple</a>,\n",
       " <a href=\"/cloudflare.html\">Cloudflare</a>,\n",
       " <a href=\"/discord.html\">Discord</a>,\n",
       " <a href=\"/ebooks.pdf\">Ebooks</a>,\n",
       " <a href=\"/eventbrite.html\">Eventbrite</a>,\n",
       " <a href=\"/evernote.html\">Evernote</a>,\n",
       " <a href=\"/facebook.html\">Facebook</a>,\n",
       " <a href=\"/frito-lay.html\">Frito-Lay</a>,\n",
       " <a href=\"/frontier.html\">Frontier</a>,\n",
       " <a href=\"/google.html\">Google</a>,\n",
       " <a href=\"/gofundme.html\">Gofundme</a>,\n",
       " <a href=\"/food-delivery.html\">Grubhub</a>,\n",
       " <a href=\"/intel.html\">Intel</a>,\n",
       " <a href=\"/linkedin.html\">LinkedIn</a>,\n",
       " <a href=\"/lyft.html\">Lyft</a>,\n",
       " <a href=\"/eventbrite.html\">Meetup</a>,\n",
       " <a href=\"/microsoft.html\">Microsoft</a>,\n",
       " <a href=\"/netflix.html\">Netflix</a>,\n",
       " <a href=\"/patreon.html\">Patreon</a>,\n",
       " <a href=\"/pay-toilets.html\">Pay Toilets</a>,\n",
       " <a href=\"/skype.html\">Skype</a>,\n",
       " <a href=\"/slack.html\">Slack</a>,\n",
       " <a href=\"/spotify.html\">Spotify</a>,\n",
       " <a href=\"/tesla.html\">Tesla</a>,\n",
       " <a href=\"/ticketmaster.html\">Ticketmaster</a>,\n",
       " <a href=\"/twitter.html\">Twitter</a>,\n",
       " <a href=\"/uber.html\">Uber</a>,\n",
       " <a href=\"/wendys.html\">Wendy's</a>,\n",
       " <a href=\"/whatsapp.html\">WhatsApp</a>,\n",
       " <a href=\"/zoom.html\">Zoom</a>]"
      ]
     },
     "execution_count": 24,
     "metadata": {},
     "output_type": "execute_result"
    }
   ],
   "source": [
    "soup.select('.c2 a')"
   ]
  },
  {
   "cell_type": "code",
   "execution_count": 25,
   "metadata": {},
   "outputs": [
    {
     "data": {
      "text/plain": [
       "['Airbnb',\n",
       " 'Amazon',\n",
       " 'Amtrak',\n",
       " 'Ancestry',\n",
       " 'Apple',\n",
       " 'Cloudflare',\n",
       " 'Discord',\n",
       " 'Ebooks',\n",
       " 'Eventbrite',\n",
       " 'Evernote',\n",
       " 'Facebook',\n",
       " 'Frito-Lay',\n",
       " 'Frontier',\n",
       " 'Google',\n",
       " 'Gofundme',\n",
       " 'Grubhub',\n",
       " 'Intel',\n",
       " 'LinkedIn',\n",
       " 'Lyft',\n",
       " 'Meetup',\n",
       " 'Microsoft',\n",
       " 'Netflix',\n",
       " 'Patreon',\n",
       " 'Pay Toilets',\n",
       " 'Skype',\n",
       " 'Slack',\n",
       " 'Spotify',\n",
       " 'Tesla',\n",
       " 'Ticketmaster',\n",
       " 'Twitter',\n",
       " 'Uber',\n",
       " \"Wendy's\",\n",
       " 'WhatsApp',\n",
       " 'Zoom']"
      ]
     },
     "execution_count": 25,
     "metadata": {},
     "output_type": "execute_result"
    }
   ],
   "source": [
    "[item.get_text() for item in soup.select('.c2 a')]"
   ]
  },
  {
   "attachments": {},
   "cell_type": "markdown",
   "metadata": {},
   "source": [
    "# 📑 Sources and References\n",
    "\n",
    "*   [Tutorial: Web Scraping with Python Using Beautiful Soup by *Vik Paruchuri*](https://www.dataquest.io/blog/web-scraping-python-using-beautiful-soup/)\n",
    "*   [Richard Stallman's Personal Site](https://stallman.org/)\n",
    "*   [HTTP response status codes, *Mozilla*](https://developer.mozilla.org/en-US/docs/Web/HTTP/Status)\n",
    "*   [Beautiful Soup](https://www.crummy.com/software/BeautifulSoup/)\n",
    "*   [CSS selectors, *Mozilla*](https://developer.mozilla.org/en-US/docs/Learn/CSS/Building_blocks/Selectors)\n",
    "*   [SelectorGadget](https://chrome.google.com/webstore/detail/selectorgadget/mhjhnkcfbdhnjickkkdbjoemdmbfginb)"
   ]
  }
 ],
 "metadata": {
  "kernelspec": {
   "display_name": "quera",
   "language": "python",
   "name": "python3"
  },
  "language_info": {
   "codemirror_mode": {
    "name": "ipython",
    "version": 3
   },
   "file_extension": ".py",
   "mimetype": "text/x-python",
   "name": "python",
   "nbconvert_exporter": "python",
   "pygments_lexer": "ipython3",
   "version": "3.9.7"
  },
  "orig_nbformat": 4,
  "vscode": {
   "interpreter": {
    "hash": "6a29b8f2e1e8b11f80c3820468461bcdbea6564508a235f61a46eeb59d48b308"
   }
  }
 },
 "nbformat": 4,
 "nbformat_minor": 2
}
