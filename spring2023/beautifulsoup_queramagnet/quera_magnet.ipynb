{
 "cells": [
  {
   "attachments": {},
   "cell_type": "markdown",
   "metadata": {},
   "source": [
    "<center>\n",
    "    <h2 style=\"color:#0099cc\">\n",
    "        <b>\n",
    "            Analyzing the scraped data from Quera Magnet\n",
    "        </b>\n",
    "    </h2>\n",
    "    <p style=\"color:#0099cc\">Presented by <i>Parsa Abbasi</i> at Quera Data Analysis Bootcamp | <i>April 2023<i></p>\n",
    "</center>"
   ]
  },
  {
   "attachments": {},
   "cell_type": "markdown",
   "metadata": {},
   "source": [
    "## Libraries"
   ]
  },
  {
   "cell_type": "code",
   "execution_count": 40,
   "metadata": {},
   "outputs": [],
   "source": [
    "import numpy as np\n",
    "import pandas as pd"
   ]
  },
  {
   "attachments": {},
   "cell_type": "markdown",
   "metadata": {},
   "source": [
    "## Read json file as a <code>DataFrame</code>"
   ]
  },
  {
   "cell_type": "code",
   "execution_count": 41,
   "metadata": {},
   "outputs": [],
   "source": [
    "data = pd.read_json('quera_magnet_basic.json')"
   ]
  },
  {
   "cell_type": "code",
   "execution_count": 42,
   "metadata": {},
   "outputs": [
    {
     "name": "stdout",
     "output_type": "stream",
     "text": [
      "Number of jobs: 155\n"
     ]
    }
   ],
   "source": [
    "print('Number of jobs:', len(data))"
   ]
  },
  {
   "cell_type": "code",
   "execution_count": 43,
   "metadata": {},
   "outputs": [
    {
     "data": {
      "text/html": [
       "<div>\n",
       "<style scoped>\n",
       "    .dataframe tbody tr th:only-of-type {\n",
       "        vertical-align: middle;\n",
       "    }\n",
       "\n",
       "    .dataframe tbody tr th {\n",
       "        vertical-align: top;\n",
       "    }\n",
       "\n",
       "    .dataframe thead th {\n",
       "        text-align: right;\n",
       "    }\n",
       "</style>\n",
       "<table border=\"1\" class=\"dataframe\">\n",
       "  <thead>\n",
       "    <tr style=\"text-align: right;\">\n",
       "      <th></th>\n",
       "      <th>title</th>\n",
       "      <th>url</th>\n",
       "      <th>date</th>\n",
       "      <th>company</th>\n",
       "      <th>location</th>\n",
       "      <th>level</th>\n",
       "      <th>type</th>\n",
       "      <th>salary</th>\n",
       "      <th>remote</th>\n",
       "      <th>technologies</th>\n",
       "      <th>sub_technologies</th>\n",
       "    </tr>\n",
       "  </thead>\n",
       "  <tbody>\n",
       "    <tr>\n",
       "      <th>0</th>\n",
       "      <td>استخدام Senior Back-end Developer (Django)</td>\n",
       "      <td>https://quera.org//magnet/jobs/qpdd8</td>\n",
       "      <td>۱۶ اسفند ۱۴۰۱،‏ ۹:۳۰</td>\n",
       "      <td>idekavan Group</td>\n",
       "      <td>تهران</td>\n",
       "      <td>Senior</td>\n",
       "      <td>تمام‌وقت</td>\n",
       "      <td>حقوق ۴۰,۰۰۰,۰۰۰ تا ۴۵,۰۰۰,۰۰۰</td>\n",
       "      <td>None</td>\n",
       "      <td>[Python, Django]</td>\n",
       "      <td>[PostgreSQL, Docker, NoSQL]</td>\n",
       "    </tr>\n",
       "    <tr>\n",
       "      <th>1</th>\n",
       "      <td>استخدام Back-end Developer .NET Core</td>\n",
       "      <td>https://quera.org//magnet/jobs/kw89m</td>\n",
       "      <td>۱۶ فروردین ۱۴۰۲،‏ ۱۲:۵۷</td>\n",
       "      <td>ایده پرداز تجارت الکترونیک</td>\n",
       "      <td>تهران</td>\n",
       "      <td>Junior</td>\n",
       "      <td>تمام‌وقت</td>\n",
       "      <td>None</td>\n",
       "      <td>None</td>\n",
       "      <td>[.NET Core, ASP.NET Web API]</td>\n",
       "      <td>[C#, SQL Server, Entity Framework]</td>\n",
       "    </tr>\n",
       "    <tr>\n",
       "      <th>2</th>\n",
       "      <td>استخدام کارشناس نرم‌افزار در گروه پایش سلامت قلب</td>\n",
       "      <td>https://quera.org//magnet/jobs/86wrq</td>\n",
       "      <td>۱۵ فروردین ۱۴۰۲،‏ ۱۸:۳۶</td>\n",
       "      <td>کاوشکام</td>\n",
       "      <td>تهران</td>\n",
       "      <td>Junior</td>\n",
       "      <td>تمام‌وقت</td>\n",
       "      <td>None</td>\n",
       "      <td>None</td>\n",
       "      <td>[Java]</td>\n",
       "      <td>[C#, C++, C, Kotlin]</td>\n",
       "    </tr>\n",
       "    <tr>\n",
       "      <th>3</th>\n",
       "      <td>استخدام مهندس الکترونیک در پل استار</td>\n",
       "      <td>https://quera.org//magnet/jobs/kw8pm</td>\n",
       "      <td>۱۵ فروردین ۱۴۰۲،‏ ۱۶:۳۰</td>\n",
       "      <td>پل استار</td>\n",
       "      <td>رشت</td>\n",
       "      <td>Senior</td>\n",
       "      <td>تمام‌وقت</td>\n",
       "      <td>حقوق ۶,۰۰۰,۰۰۰ تا ۸,۰۰۰,۰۰۰</td>\n",
       "      <td>None</td>\n",
       "      <td>[Esp32]</td>\n",
       "      <td>[Python, Arduino, Esp8266, AVR]</td>\n",
       "    </tr>\n",
       "    <tr>\n",
       "      <th>4</th>\n",
       "      <td>استخدام Data scientist</td>\n",
       "      <td>https://quera.org//magnet/jobs/jq9dj</td>\n",
       "      <td>۱۵ فروردین ۱۴۰۲،‏ ۱۶:۲۷</td>\n",
       "      <td>Data Co Lab</td>\n",
       "      <td>None</td>\n",
       "      <td>Junior</td>\n",
       "      <td>تمام‌وقت</td>\n",
       "      <td>None</td>\n",
       "      <td>امکان دورکاری</td>\n",
       "      <td>[Python, Machine Learning]</td>\n",
       "      <td>[Data Science]</td>\n",
       "    </tr>\n",
       "  </tbody>\n",
       "</table>\n",
       "</div>"
      ],
      "text/plain": [
       "                                              title  \\\n",
       "0        استخدام Senior Back-end Developer (Django)   \n",
       "1              استخدام Back-end Developer .NET Core   \n",
       "2  استخدام کارشناس نرم‌افزار در گروه پایش سلامت قلب   \n",
       "3               استخدام مهندس الکترونیک در پل استار   \n",
       "4                            استخدام Data scientist   \n",
       "\n",
       "                                    url                     date  \\\n",
       "0  https://quera.org//magnet/jobs/qpdd8     ۱۶ اسفند ۱۴۰۱،‏ ۹:۳۰   \n",
       "1  https://quera.org//magnet/jobs/kw89m  ۱۶ فروردین ۱۴۰۲،‏ ۱۲:۵۷   \n",
       "2  https://quera.org//magnet/jobs/86wrq  ۱۵ فروردین ۱۴۰۲،‏ ۱۸:۳۶   \n",
       "3  https://quera.org//magnet/jobs/kw8pm  ۱۵ فروردین ۱۴۰۲،‏ ۱۶:۳۰   \n",
       "4  https://quera.org//magnet/jobs/jq9dj  ۱۵ فروردین ۱۴۰۲،‏ ۱۶:۲۷   \n",
       "\n",
       "                      company location   level      type  \\\n",
       "0              idekavan Group    تهران  Senior  تمام‌وقت   \n",
       "1  ایده پرداز تجارت الکترونیک    تهران  Junior  تمام‌وقت   \n",
       "2                     کاوشکام    تهران  Junior  تمام‌وقت   \n",
       "3                    پل استار      رشت  Senior  تمام‌وقت   \n",
       "4                 Data Co Lab     None  Junior  تمام‌وقت   \n",
       "\n",
       "                          salary         remote                  technologies  \\\n",
       "0  حقوق ۴۰,۰۰۰,۰۰۰ تا ۴۵,۰۰۰,۰۰۰           None              [Python, Django]   \n",
       "1                           None           None  [.NET Core, ASP.NET Web API]   \n",
       "2                           None           None                        [Java]   \n",
       "3    حقوق ۶,۰۰۰,۰۰۰ تا ۸,۰۰۰,۰۰۰           None                       [Esp32]   \n",
       "4                           None  امکان دورکاری    [Python, Machine Learning]   \n",
       "\n",
       "                     sub_technologies  \n",
       "0         [PostgreSQL, Docker, NoSQL]  \n",
       "1  [C#, SQL Server, Entity Framework]  \n",
       "2                [C#, C++, C, Kotlin]  \n",
       "3     [Python, Arduino, Esp8266, AVR]  \n",
       "4                      [Data Science]  "
      ]
     },
     "execution_count": 43,
     "metadata": {},
     "output_type": "execute_result"
    }
   ],
   "source": [
    "data.head()"
   ]
  },
  {
   "cell_type": "code",
   "execution_count": 44,
   "metadata": {},
   "outputs": [
    {
     "data": {
      "text/html": [
       "<div>\n",
       "<style scoped>\n",
       "    .dataframe tbody tr th:only-of-type {\n",
       "        vertical-align: middle;\n",
       "    }\n",
       "\n",
       "    .dataframe tbody tr th {\n",
       "        vertical-align: top;\n",
       "    }\n",
       "\n",
       "    .dataframe thead th {\n",
       "        text-align: right;\n",
       "    }\n",
       "</style>\n",
       "<table border=\"1\" class=\"dataframe\">\n",
       "  <thead>\n",
       "    <tr style=\"text-align: right;\">\n",
       "      <th></th>\n",
       "      <th>title</th>\n",
       "      <th>url</th>\n",
       "      <th>date</th>\n",
       "      <th>company</th>\n",
       "      <th>location</th>\n",
       "      <th>level</th>\n",
       "      <th>type</th>\n",
       "      <th>salary</th>\n",
       "      <th>remote</th>\n",
       "      <th>technologies</th>\n",
       "      <th>sub_technologies</th>\n",
       "    </tr>\n",
       "  </thead>\n",
       "  <tbody>\n",
       "    <tr>\n",
       "      <th>150</th>\n",
       "      <td>استخدام توسعه‌دهنده سینیور لاراول نوا</td>\n",
       "      <td>https://quera.org//magnet/jobs/rjr6r</td>\n",
       "      <td>۱۵ بهمن ۱۴۰۱،‏ ۲۱:۱۱</td>\n",
       "      <td>جاپکو</td>\n",
       "      <td>None</td>\n",
       "      <td>Senior</td>\n",
       "      <td>تمام‌وقت</td>\n",
       "      <td>None</td>\n",
       "      <td>امکان دورکاری</td>\n",
       "      <td>[PHP, Laravel Nova]</td>\n",
       "      <td>[]</td>\n",
       "    </tr>\n",
       "    <tr>\n",
       "      <th>151</th>\n",
       "      <td>استخدام توسعه‌دهنده React Front-end</td>\n",
       "      <td>https://quera.org//magnet/jobs/qjv9g</td>\n",
       "      <td>۱۵ بهمن ۱۴۰۱،‏ ۲۱:۱۱</td>\n",
       "      <td>Rayan Soft Land</td>\n",
       "      <td>None</td>\n",
       "      <td>Senior</td>\n",
       "      <td>پروژه‌ای</td>\n",
       "      <td>None</td>\n",
       "      <td>امکان دورکاری</td>\n",
       "      <td>[React, Next.js]</td>\n",
       "      <td>[Material UI, Figma]</td>\n",
       "    </tr>\n",
       "    <tr>\n",
       "      <th>152</th>\n",
       "      <td>استخدام برنامه‌نویس سخت افزار</td>\n",
       "      <td>https://quera.org//magnet/jobs/69djj</td>\n",
       "      <td>۱۵ بهمن ۱۴۰۱،‏ ۲۱:۱۰</td>\n",
       "      <td>گروه نوآور امیدفضا</td>\n",
       "      <td>تهران</td>\n",
       "      <td>Junior</td>\n",
       "      <td>تمام‌وقت</td>\n",
       "      <td>None</td>\n",
       "      <td>None</td>\n",
       "      <td>[C, ARM]</td>\n",
       "      <td>[C++, Microcontroller]</td>\n",
       "    </tr>\n",
       "    <tr>\n",
       "      <th>153</th>\n",
       "      <td>استخدام Fullstack React/TypeScript Developer</td>\n",
       "      <td>https://quera.org//magnet/jobs/pm98k</td>\n",
       "      <td>۱ بهمن ۱۴۰۱،‏ ۹:۲۷</td>\n",
       "      <td>Pragmateam</td>\n",
       "      <td>None</td>\n",
       "      <td>Senior</td>\n",
       "      <td>تمام‌وقت</td>\n",
       "      <td>حقوق ۵۰,۰۰۰,۰۰۰ تا ۵۵,۰۰۰,۰۰۰</td>\n",
       "      <td>امکان دورکاری</td>\n",
       "      <td>[React, TypeScript]</td>\n",
       "      <td>[Node.js, Tailwind CSS]</td>\n",
       "    </tr>\n",
       "    <tr>\n",
       "      <th>154</th>\n",
       "      <td>استخدام منتور Golang</td>\n",
       "      <td>https://quera.org//magnet/jobs/grdvx</td>\n",
       "      <td>۳ بهمن ۱۴۰۱،‏ ۱۳:۱۱</td>\n",
       "      <td>Quera</td>\n",
       "      <td>None</td>\n",
       "      <td>Senior</td>\n",
       "      <td>پاره‌وقت</td>\n",
       "      <td>None</td>\n",
       "      <td>امکان دورکاری</td>\n",
       "      <td>[Docker, Go]</td>\n",
       "      <td>[Git]</td>\n",
       "    </tr>\n",
       "  </tbody>\n",
       "</table>\n",
       "</div>"
      ],
      "text/plain": [
       "                                            title  \\\n",
       "150         استخدام توسعه‌دهنده سینیور لاراول نوا   \n",
       "151           استخدام توسعه‌دهنده React Front-end   \n",
       "152                 استخدام برنامه‌نویس سخت افزار   \n",
       "153  استخدام Fullstack React/TypeScript Developer   \n",
       "154                          استخدام منتور Golang   \n",
       "\n",
       "                                      url                  date  \\\n",
       "150  https://quera.org//magnet/jobs/rjr6r  ۱۵ بهمن ۱۴۰۱،‏ ۲۱:۱۱   \n",
       "151  https://quera.org//magnet/jobs/qjv9g  ۱۵ بهمن ۱۴۰۱،‏ ۲۱:۱۱   \n",
       "152  https://quera.org//magnet/jobs/69djj  ۱۵ بهمن ۱۴۰۱،‏ ۲۱:۱۰   \n",
       "153  https://quera.org//magnet/jobs/pm98k    ۱ بهمن ۱۴۰۱،‏ ۹:۲۷   \n",
       "154  https://quera.org//magnet/jobs/grdvx   ۳ بهمن ۱۴۰۱،‏ ۱۳:۱۱   \n",
       "\n",
       "                company location   level      type  \\\n",
       "150               جاپکو     None  Senior  تمام‌وقت   \n",
       "151     Rayan Soft Land     None  Senior  پروژه‌ای   \n",
       "152  گروه نوآور امیدفضا    تهران  Junior  تمام‌وقت   \n",
       "153          Pragmateam     None  Senior  تمام‌وقت   \n",
       "154               Quera     None  Senior  پاره‌وقت   \n",
       "\n",
       "                            salary         remote         technologies  \\\n",
       "150                           None  امکان دورکاری  [PHP, Laravel Nova]   \n",
       "151                           None  امکان دورکاری     [React, Next.js]   \n",
       "152                           None           None             [C, ARM]   \n",
       "153  حقوق ۵۰,۰۰۰,۰۰۰ تا ۵۵,۰۰۰,۰۰۰  امکان دورکاری  [React, TypeScript]   \n",
       "154                           None  امکان دورکاری         [Docker, Go]   \n",
       "\n",
       "            sub_technologies  \n",
       "150                       []  \n",
       "151     [Material UI, Figma]  \n",
       "152   [C++, Microcontroller]  \n",
       "153  [Node.js, Tailwind CSS]  \n",
       "154                    [Git]  "
      ]
     },
     "execution_count": 44,
     "metadata": {},
     "output_type": "execute_result"
    }
   ],
   "source": [
    "data.tail()"
   ]
  },
  {
   "attachments": {},
   "cell_type": "markdown",
   "metadata": {},
   "source": [
    "## Checking the <code>NAN</code> values"
   ]
  },
  {
   "cell_type": "code",
   "execution_count": 45,
   "metadata": {},
   "outputs": [
    {
     "data": {
      "text/plain": [
       "title                 0\n",
       "url                   0\n",
       "date                  0\n",
       "company               0\n",
       "location             41\n",
       "level                 0\n",
       "type                  0\n",
       "salary              130\n",
       "remote              103\n",
       "technologies          0\n",
       "sub_technologies      0\n",
       "dtype: int64"
      ]
     },
     "execution_count": 45,
     "metadata": {},
     "output_type": "execute_result"
    }
   ],
   "source": [
    "data.isnull().sum()"
   ]
  },
  {
   "attachments": {},
   "cell_type": "markdown",
   "metadata": {},
   "source": [
    "## Analyzing"
   ]
  },
  {
   "attachments": {},
   "cell_type": "markdown",
   "metadata": {},
   "source": [
    "### 🏙️ Location"
   ]
  },
  {
   "cell_type": "code",
   "execution_count": 46,
   "metadata": {},
   "outputs": [
    {
     "data": {
      "text/plain": [
       "تهران       86\n",
       "اصفهان      11\n",
       "رشت          6\n",
       "گرگان        5\n",
       "یزد          3\n",
       "قم           1\n",
       "مشهد         1\n",
       "اسلامشهر     1\n",
       "Name: location, dtype: int64"
      ]
     },
     "execution_count": 46,
     "metadata": {},
     "output_type": "execute_result"
    }
   ],
   "source": [
    "data['location'].value_counts()"
   ]
  },
  {
   "attachments": {},
   "cell_type": "markdown",
   "metadata": {},
   "source": [
    "### 🎚️ Level"
   ]
  },
  {
   "cell_type": "code",
   "execution_count": 47,
   "metadata": {},
   "outputs": [
    {
     "data": {
      "text/plain": [
       "Senior    91\n",
       "Junior    53\n",
       "Intern    10\n",
       "Lead       1\n",
       "Name: level, dtype: int64"
      ]
     },
     "execution_count": 47,
     "metadata": {},
     "output_type": "execute_result"
    }
   ],
   "source": [
    "data['level'].value_counts()"
   ]
  },
  {
   "attachments": {},
   "cell_type": "markdown",
   "metadata": {},
   "source": [
    "### ⏱️ Type"
   ]
  },
  {
   "cell_type": "code",
   "execution_count": 48,
   "metadata": {},
   "outputs": [
    {
     "data": {
      "text/plain": [
       "تمام‌وقت    132\n",
       "پاره‌وقت     16\n",
       "پروژه‌ای      7\n",
       "Name: type, dtype: int64"
      ]
     },
     "execution_count": 48,
     "metadata": {},
     "output_type": "execute_result"
    }
   ],
   "source": [
    "data['type'].value_counts()"
   ]
  },
  {
   "attachments": {},
   "cell_type": "markdown",
   "metadata": {},
   "source": [
    "### 🏠 Remote"
   ]
  },
  {
   "cell_type": "code",
   "execution_count": 50,
   "metadata": {},
   "outputs": [
    {
     "name": "stdout",
     "output_type": "stream",
     "text": [
      "52 out of 155 jobs support remote work!\n"
     ]
    }
   ],
   "source": [
    "print(data['remote'].count(), 'out of', len(data), 'jobs support remote work!')"
   ]
  },
  {
   "attachments": {},
   "cell_type": "markdown",
   "metadata": {},
   "source": [
    "### 📊 Data Related"
   ]
  },
  {
   "cell_type": "code",
   "execution_count": 51,
   "metadata": {},
   "outputs": [
    {
     "data": {
      "text/html": [
       "<div>\n",
       "<style scoped>\n",
       "    .dataframe tbody tr th:only-of-type {\n",
       "        vertical-align: middle;\n",
       "    }\n",
       "\n",
       "    .dataframe tbody tr th {\n",
       "        vertical-align: top;\n",
       "    }\n",
       "\n",
       "    .dataframe thead th {\n",
       "        text-align: right;\n",
       "    }\n",
       "</style>\n",
       "<table border=\"1\" class=\"dataframe\">\n",
       "  <thead>\n",
       "    <tr style=\"text-align: right;\">\n",
       "      <th></th>\n",
       "      <th>title</th>\n",
       "      <th>url</th>\n",
       "      <th>date</th>\n",
       "      <th>company</th>\n",
       "      <th>location</th>\n",
       "      <th>level</th>\n",
       "      <th>type</th>\n",
       "      <th>salary</th>\n",
       "      <th>remote</th>\n",
       "      <th>technologies</th>\n",
       "      <th>sub_technologies</th>\n",
       "    </tr>\n",
       "  </thead>\n",
       "  <tbody>\n",
       "    <tr>\n",
       "      <th>4</th>\n",
       "      <td>استخدام Data scientist</td>\n",
       "      <td>https://quera.org//magnet/jobs/jq9dj</td>\n",
       "      <td>۱۵ فروردین ۱۴۰۲،‏ ۱۶:۲۷</td>\n",
       "      <td>Data Co Lab</td>\n",
       "      <td>None</td>\n",
       "      <td>Junior</td>\n",
       "      <td>تمام‌وقت</td>\n",
       "      <td>None</td>\n",
       "      <td>امکان دورکاری</td>\n",
       "      <td>[Python, Machine Learning]</td>\n",
       "      <td>[Data Science]</td>\n",
       "    </tr>\n",
       "    <tr>\n",
       "      <th>40</th>\n",
       "      <td>استخدام مهندس Data</td>\n",
       "      <td>https://quera.org//magnet/jobs/x7kqw</td>\n",
       "      <td>۲۷ اسفند ۱۴۰۱،‏ ۱۱:۰۷</td>\n",
       "      <td>کاریابی بین المللی مهرکام</td>\n",
       "      <td>None</td>\n",
       "      <td>Senior</td>\n",
       "      <td>تمام‌وقت</td>\n",
       "      <td>None</td>\n",
       "      <td>None</td>\n",
       "      <td>[Python, Flask]</td>\n",
       "      <td>[SQL, Docker, Azure DevOps]</td>\n",
       "    </tr>\n",
       "    <tr>\n",
       "      <th>85</th>\n",
       "      <td>استخدام کارشناس جمع‌آوری داده‌ها | Data Crawler</td>\n",
       "      <td>https://quera.org//magnet/jobs/r7vrg</td>\n",
       "      <td>۱۳ اسفند ۱۴۰۱،‏ ۱۱:۰۰</td>\n",
       "      <td>پژوهشگاه توسعه فناوری‌های پیشرفته</td>\n",
       "      <td>تهران</td>\n",
       "      <td>Junior</td>\n",
       "      <td>تمام‌وقت</td>\n",
       "      <td>None</td>\n",
       "      <td>None</td>\n",
       "      <td>[Python, Selenium]</td>\n",
       "      <td>[Beautiful Soup, Scrapy, FastAPI]</td>\n",
       "    </tr>\n",
       "    <tr>\n",
       "      <th>88</th>\n",
       "      <td>استخدام مهندس داده‌ها | Data Engineering</td>\n",
       "      <td>https://quera.org//magnet/jobs/9w6v6</td>\n",
       "      <td>۱۳ اسفند ۱۴۰۱،‏ ۱۰:۵۸</td>\n",
       "      <td>پژوهشگاه توسعه فناوری‌های پیشرفته</td>\n",
       "      <td>تهران</td>\n",
       "      <td>Junior</td>\n",
       "      <td>تمام‌وقت</td>\n",
       "      <td>None</td>\n",
       "      <td>None</td>\n",
       "      <td>[Elasticsearch, Apache Kafka]</td>\n",
       "      <td>[Python, Kubernetes, Apache Nifi]</td>\n",
       "    </tr>\n",
       "    <tr>\n",
       "      <th>108</th>\n",
       "      <td>استخدام Data Engineer</td>\n",
       "      <td>https://quera.org//magnet/jobs/v7dxm</td>\n",
       "      <td>۲ اسفند ۱۴۰۱،‏ ۹:۰۹</td>\n",
       "      <td>Dosma</td>\n",
       "      <td>اصفهان</td>\n",
       "      <td>Junior</td>\n",
       "      <td>تمام‌وقت</td>\n",
       "      <td>None</td>\n",
       "      <td>None</td>\n",
       "      <td>[Python, SQL]</td>\n",
       "      <td>[Django]</td>\n",
       "    </tr>\n",
       "  </tbody>\n",
       "</table>\n",
       "</div>"
      ],
      "text/plain": [
       "                                               title  \\\n",
       "4                             استخدام Data scientist   \n",
       "40                                استخدام مهندس Data   \n",
       "85   استخدام کارشناس جمع‌آوری داده‌ها | Data Crawler   \n",
       "88          استخدام مهندس داده‌ها | Data Engineering   \n",
       "108                            استخدام Data Engineer   \n",
       "\n",
       "                                      url                     date  \\\n",
       "4    https://quera.org//magnet/jobs/jq9dj  ۱۵ فروردین ۱۴۰۲،‏ ۱۶:۲۷   \n",
       "40   https://quera.org//magnet/jobs/x7kqw    ۲۷ اسفند ۱۴۰۱،‏ ۱۱:۰۷   \n",
       "85   https://quera.org//magnet/jobs/r7vrg    ۱۳ اسفند ۱۴۰۱،‏ ۱۱:۰۰   \n",
       "88   https://quera.org//magnet/jobs/9w6v6    ۱۳ اسفند ۱۴۰۱،‏ ۱۰:۵۸   \n",
       "108  https://quera.org//magnet/jobs/v7dxm      ۲ اسفند ۱۴۰۱،‏ ۹:۰۹   \n",
       "\n",
       "                               company location   level      type salary  \\\n",
       "4                          Data Co Lab     None  Junior  تمام‌وقت   None   \n",
       "40           کاریابی بین المللی مهرکام     None  Senior  تمام‌وقت   None   \n",
       "85   پژوهشگاه توسعه فناوری‌های پیشرفته    تهران  Junior  تمام‌وقت   None   \n",
       "88   پژوهشگاه توسعه فناوری‌های پیشرفته    تهران  Junior  تمام‌وقت   None   \n",
       "108                              Dosma   اصفهان  Junior  تمام‌وقت   None   \n",
       "\n",
       "            remote                   technologies  \\\n",
       "4    امکان دورکاری     [Python, Machine Learning]   \n",
       "40            None                [Python, Flask]   \n",
       "85            None             [Python, Selenium]   \n",
       "88            None  [Elasticsearch, Apache Kafka]   \n",
       "108           None                  [Python, SQL]   \n",
       "\n",
       "                      sub_technologies  \n",
       "4                       [Data Science]  \n",
       "40         [SQL, Docker, Azure DevOps]  \n",
       "85   [Beautiful Soup, Scrapy, FastAPI]  \n",
       "88   [Python, Kubernetes, Apache Nifi]  \n",
       "108                           [Django]  "
      ]
     },
     "execution_count": 51,
     "metadata": {},
     "output_type": "execute_result"
    }
   ],
   "source": [
    "data[data['title'].str.contains('data', case=False)]"
   ]
  },
  {
   "attachments": {},
   "cell_type": "markdown",
   "metadata": {},
   "source": [
    "### 🤖 Technologies"
   ]
  },
  {
   "cell_type": "code",
   "execution_count": 52,
   "metadata": {},
   "outputs": [
    {
     "data": {
      "text/plain": [
       "[('Python', 26),\n",
       " ('React', 18),\n",
       " ('Django', 17),\n",
       " ('Java', 10),\n",
       " ('Node.js', 9),\n",
       " ('JavaScript', 9),\n",
       " ('Vue.js', 7),\n",
       " ('PHP', 6),\n",
       " ('Laravel', 5),\n",
       " ('C#', 5)]"
      ]
     },
     "execution_count": 52,
     "metadata": {},
     "output_type": "execute_result"
    }
   ],
   "source": [
    "from collections import Counter\n",
    "\n",
    "all_tech = []\n",
    "for technologies in data['technologies']:\n",
    "    all_tech.extend(technologies)\n",
    "    \n",
    "Counter(all_tech).most_common(10)"
   ]
  },
  {
   "attachments": {},
   "cell_type": "markdown",
   "metadata": {},
   "source": [
    "### 🦾 Sub-technologies"
   ]
  },
  {
   "cell_type": "code",
   "execution_count": 53,
   "metadata": {},
   "outputs": [
    {
     "data": {
      "text/plain": [
       "[('Git', 15),\n",
       " ('JavaScript', 14),\n",
       " ('Python', 12),\n",
       " ('SQL', 11),\n",
       " ('Linux', 9),\n",
       " ('HTML', 9),\n",
       " ('Docker', 7),\n",
       " ('Django', 7),\n",
       " ('CSS', 7),\n",
       " ('PostgreSQL', 6)]"
      ]
     },
     "execution_count": 53,
     "metadata": {},
     "output_type": "execute_result"
    }
   ],
   "source": [
    "all_sub_tech = []\n",
    "for sub_technologies in data['sub_technologies']:\n",
    "    all_sub_tech.extend(sub_technologies)\n",
    "    \n",
    "Counter(all_sub_tech).most_common(10)"
   ]
  },
  {
   "attachments": {},
   "cell_type": "markdown",
   "metadata": {},
   "source": [
    "### 🦾🤖 Technologies and Sub-technologies"
   ]
  },
  {
   "cell_type": "code",
   "execution_count": 54,
   "metadata": {},
   "outputs": [
    {
     "data": {
      "text/plain": [
       "[('Python', 38),\n",
       " ('Django', 24),\n",
       " ('JavaScript', 23),\n",
       " ('React', 20),\n",
       " ('Git', 15),\n",
       " ('SQL', 14),\n",
       " ('Linux', 12),\n",
       " ('Java', 11),\n",
       " ('Node.js', 11),\n",
       " ('Docker', 11),\n",
       " ('Vue.js', 10),\n",
       " ('PHP', 10),\n",
       " ('HTML', 10),\n",
       " ('C#', 9),\n",
       " ('CSS', 9),\n",
       " ('Back-end', 7),\n",
       " ('Flutter', 6),\n",
       " ('TypeScript', 6),\n",
       " ('React Native', 6),\n",
       " ('Kotlin', 6)]"
      ]
     },
     "execution_count": 54,
     "metadata": {},
     "output_type": "execute_result"
    }
   ],
   "source": [
    "from collections import Counter\n",
    "together = all_tech + all_sub_tech\n",
    "Counter(together).most_common(20)"
   ]
  },
  {
   "cell_type": "code",
   "execution_count": null,
   "metadata": {},
   "outputs": [],
   "source": []
  }
 ],
 "metadata": {
  "kernelspec": {
   "display_name": "quera",
   "language": "python",
   "name": "python3"
  },
  "language_info": {
   "codemirror_mode": {
    "name": "ipython",
    "version": 3
   },
   "file_extension": ".py",
   "mimetype": "text/x-python",
   "name": "python",
   "nbconvert_exporter": "python",
   "pygments_lexer": "ipython3",
   "version": "3.9.7"
  },
  "orig_nbformat": 4,
  "vscode": {
   "interpreter": {
    "hash": "6a29b8f2e1e8b11f80c3820468461bcdbea6564508a235f61a46eeb59d48b308"
   }
  }
 },
 "nbformat": 4,
 "nbformat_minor": 2
}
