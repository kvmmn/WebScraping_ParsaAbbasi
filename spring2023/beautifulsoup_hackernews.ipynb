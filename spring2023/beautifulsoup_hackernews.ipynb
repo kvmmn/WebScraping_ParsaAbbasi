{
 "cells": [
  {
   "attachments": {},
   "cell_type": "markdown",
   "metadata": {},
   "source": [
    "<center>\n",
    "    <h1 style=\"color:#0099cc\">\n",
    "        <b>\n",
    "            Introduction to BeautifulSoup\n",
    "        </b>\n",
    "    </h1>\n",
    "    <p style=\"color:#0099cc\">Presented by <i>Parsa Abbasi</i> at Quera Data Analysis Bootcamp | <i>April 2023<i></p>\n",
    "</center>"
   ]
  },
  {
   "attachments": {},
   "cell_type": "markdown",
   "metadata": {},
   "source": [
    "# The `requests` library\n",
    "The `requests` library is a Python library that allows you to send HTTP requests. It is an easy-to-use library with a lot of features ranging from passing parameters in URLs to sending custom headers and SSL Verification.\n",
    "\n",
    "We can make a `GET` request to a website using the `get()` method and store the response in a variable. Let's try it out for the [Hacker News](https://news.ycombinator.com/) website."
   ]
  },
  {
   "cell_type": "code",
   "execution_count": 43,
   "metadata": {},
   "outputs": [],
   "source": [
    "import requests\n",
    "page = requests.get(\"https://news.ycombinator.com/\")"
   ]
  },
  {
   "attachments": {},
   "cell_type": "markdown",
   "metadata": {},
   "source": [
    "## Status Code\n",
    "HTTP status codes indicate whether a specific HTTP request has been successfully completed. Responses are grouped in five classes:\n",
    "\n",
    "- Informational responses (`100`–`199`)\n",
    "- Successful responses (`200`–`299`)\n",
    "- Redirects (`300`–`399`)\n",
    "- Client errors (`400`–`499`)\n",
    "- Server errors (`500`–`599`)\n",
    "\n",
    "You can check this [link](https://developer.mozilla.org/en-US/docs/Web/HTTP/Status) for more information about HTTP status codes.\n",
    "\n",
    "The `status_code` attribute of the response object contains the status code of the response. If the status code is `200`, then the request has succeeded."
   ]
  },
  {
   "cell_type": "code",
   "execution_count": 44,
   "metadata": {},
   "outputs": [
    {
     "data": {
      "text/plain": [
       "200"
      ]
     },
     "execution_count": 44,
     "metadata": {},
     "output_type": "execute_result"
    }
   ],
   "source": [
    "page.status_code"
   ]
  },
  {
   "attachments": {},
   "cell_type": "markdown",
   "metadata": {},
   "source": [
    "If you want to check the status in a human-readable format, you can use the built-in `http` library."
   ]
  },
  {
   "cell_type": "code",
   "execution_count": 45,
   "metadata": {},
   "outputs": [
    {
     "data": {
      "text/plain": [
       "'OK'"
      ]
     },
     "execution_count": 45,
     "metadata": {},
     "output_type": "execute_result"
    }
   ],
   "source": [
    "from http.client import responses\n",
    "responses[page.status_code]"
   ]
  },
  {
   "attachments": {},
   "cell_type": "markdown",
   "metadata": {},
   "source": [
    "## Content\n",
    "The `content` attribute of the response object contains the content of the response, in bytes. You can use the `decode()` method to convert the bytes to a string."
   ]
  },
  {
   "cell_type": "code",
   "execution_count": null,
   "metadata": {},
   "outputs": [],
   "source": [
    "page.content.decode()"
   ]
  },
  {
   "attachments": {},
   "cell_type": "markdown",
   "metadata": {},
   "source": [
    "# BeautifulSoup\n",
    "We can use the `BeautifulSoup` library to parse the HTML content of a webpage."
   ]
  },
  {
   "cell_type": "code",
   "execution_count": 47,
   "metadata": {},
   "outputs": [],
   "source": [
    "from bs4 import BeautifulSoup\n",
    "\n",
    "soup = BeautifulSoup(page.content, 'html.parser')"
   ]
  },
  {
   "attachments": {},
   "cell_type": "markdown",
   "metadata": {},
   "source": [
    "## Prettified View\n",
    "The `prettify()` method of the `BeautifulSoup` object returns a string that contains the HTML content of the webpage in a more readable format."
   ]
  },
  {
   "cell_type": "code",
   "execution_count": null,
   "metadata": {},
   "outputs": [],
   "source": [
    "print(soup.prettify())"
   ]
  },
  {
   "attachments": {},
   "cell_type": "markdown",
   "metadata": {},
   "source": [
    "## Getting the Title\n",
    "The `title` attribute of the `BeautifulSoup` object returns the title of the webpage."
   ]
  },
  {
   "cell_type": "code",
   "execution_count": 49,
   "metadata": {},
   "outputs": [
    {
     "data": {
      "text/plain": [
       "<title>Hacker News</title>"
      ]
     },
     "execution_count": 49,
     "metadata": {},
     "output_type": "execute_result"
    }
   ],
   "source": [
    "soup.title"
   ]
  },
  {
   "attachments": {},
   "cell_type": "markdown",
   "metadata": {},
   "source": [
    "We can extract the text of the title using the `text` attribute of the `title` object."
   ]
  },
  {
   "cell_type": "code",
   "execution_count": 50,
   "metadata": {},
   "outputs": [
    {
     "data": {
      "text/plain": [
       "'Hacker News'"
      ]
     },
     "execution_count": 50,
     "metadata": {},
     "output_type": "execute_result"
    }
   ],
   "source": [
    "soup.title.text"
   ]
  },
  {
   "attachments": {},
   "cell_type": "markdown",
   "metadata": {},
   "source": [
    "## Finding all instances of a tag\n",
    "The `find_all()` method of the `BeautifulSoup` object returns a list of all the HTML tags that match the given name."
   ]
  },
  {
   "cell_type": "code",
   "execution_count": 51,
   "metadata": {},
   "outputs": [
    {
     "name": "stdout",
     "output_type": "stream",
     "text": [
      "224 links found\n"
     ]
    }
   ],
   "source": [
    "# fing all the links in the page\n",
    "links = soup.find_all('a')\n",
    "print('{} links found'.format(len(links)))"
   ]
  },
  {
   "attachments": {},
   "cell_type": "markdown",
   "metadata": {},
   "source": [
    "Note that the `find_all()` method returns a list, so we need to loop through the list or use list indexing to access the elements."
   ]
  },
  {
   "cell_type": "code",
   "execution_count": 52,
   "metadata": {},
   "outputs": [
    {
     "data": {
      "text/plain": [
       "[<a href=\"https://news.ycombinator.com\"><img height=\"18\" src=\"y18.gif\" style=\"border:1px white solid;\" width=\"18\"/></a>,\n",
       " <a href=\"news\">Hacker News</a>,\n",
       " <a href=\"newest\">new</a>,\n",
       " <a href=\"front\">past</a>,\n",
       " <a href=\"newcomments\">comments</a>,\n",
       " <a href=\"ask\">ask</a>,\n",
       " <a href=\"show\">show</a>,\n",
       " <a href=\"jobs\">jobs</a>,\n",
       " <a href=\"submit\">submit</a>,\n",
       " <a href=\"login?goto=news\">login</a>]"
      ]
     },
     "execution_count": 52,
     "metadata": {},
     "output_type": "execute_result"
    }
   ],
   "source": [
    "links[:10]"
   ]
  },
  {
   "attachments": {},
   "cell_type": "markdown",
   "metadata": {},
   "source": [
    "We can get a dictionary of all the attributes of a tag using the `attrs` attribute of the tag object."
   ]
  },
  {
   "cell_type": "code",
   "execution_count": 53,
   "metadata": {},
   "outputs": [
    {
     "data": {
      "text/plain": [
       "{'href': 'https://news.ycombinator.com'}"
      ]
     },
     "execution_count": 53,
     "metadata": {},
     "output_type": "execute_result"
    }
   ],
   "source": [
    "links[0].attrs"
   ]
  },
  {
   "attachments": {},
   "cell_type": "markdown",
   "metadata": {},
   "source": [
    "We can extract the value of a specific attribute using the `get()` method of the dictionary."
   ]
  },
  {
   "cell_type": "code",
   "execution_count": 54,
   "metadata": {},
   "outputs": [
    {
     "data": {
      "text/plain": [
       "'https://news.ycombinator.com'"
      ]
     },
     "execution_count": 54,
     "metadata": {},
     "output_type": "execute_result"
    }
   ],
   "source": [
    "links[0].get('href')"
   ]
  },
  {
   "attachments": {},
   "cell_type": "markdown",
   "metadata": {},
   "source": [
    "## Finding the first appearance of a tag\n",
    "The `find()` method of the `BeautifulSoup` object returns the first HTML tag that matches the given name."
   ]
  },
  {
   "cell_type": "code",
   "execution_count": 55,
   "metadata": {},
   "outputs": [
    {
     "data": {
      "text/plain": [
       "<a href=\"https://news.ycombinator.com\"><img height=\"18\" src=\"y18.gif\" style=\"border:1px white solid;\" width=\"18\"/></a>"
      ]
     },
     "execution_count": 55,
     "metadata": {},
     "output_type": "execute_result"
    }
   ],
   "source": [
    "soup.find('a')"
   ]
  },
  {
   "attachments": {},
   "cell_type": "markdown",
   "metadata": {},
   "source": [
    "## Find by ID\n",
    "The `find()` and `find_all()` methods can also be used to find tags by their `id` attribute."
   ]
  },
  {
   "cell_type": "code",
   "execution_count": null,
   "metadata": {},
   "outputs": [],
   "source": [
    "soup.find(id='hnmain')"
   ]
  },
  {
   "attachments": {},
   "cell_type": "markdown",
   "metadata": {},
   "source": [
    "## Find by Class\n",
    "The `find()` and `find_all()` methods can also be used to find tags by their `class` attribute."
   ]
  },
  {
   "cell_type": "code",
   "execution_count": 64,
   "metadata": {},
   "outputs": [
    {
     "name": "stdout",
     "output_type": "stream",
     "text": [
      "30 item with class athing are found!\n"
     ]
    }
   ],
   "source": [
    "# find all news items\n",
    "news = soup.find_all(class_='athing')\n",
    "print('{} item with class athing are found!'.format(len(news)))"
   ]
  },
  {
   "cell_type": "code",
   "execution_count": 65,
   "metadata": {},
   "outputs": [
    {
     "data": {
      "text/plain": [
       "<tr class=\"athing\" id=\"35426482\">\n",
       "<td align=\"right\" class=\"title\" valign=\"top\"><span class=\"rank\">1.</span></td> <td class=\"votelinks\" valign=\"top\"><center><a href=\"vote?id=35426482&amp;how=up&amp;goto=news\" id=\"up_35426482\"><div class=\"votearrow\" title=\"upvote\"></div></a></center></td><td class=\"title\"><span class=\"titleline\"><a href=\"item?id=35426482\">Launch HN: OutSail (YC W23) – Wingsails to reduce cargo ship fuel consumption</a></span></td></tr>"
      ]
     },
     "execution_count": 65,
     "metadata": {},
     "output_type": "execute_result"
    }
   ],
   "source": [
    "news[0]"
   ]
  },
  {
   "attachments": {},
   "cell_type": "markdown",
   "metadata": {},
   "source": [
    "## Select by CSS Selector\n",
    "CSS selectors are patterns used to select the content you want to style. Here are some examples of CSS selectors:\n",
    "\n",
    "*   <code>p a</code> — finds all <code>a</code> tags inside of a <code>p</code> tag.\n",
    "*   <code>body p a</code> — finds all <code>a</code> tags inside of a <code>p</code> tag inside of a <code>body</code> tag.\n",
    "*   <code>html body</code> — finds all <code>body</code> tags inside of an <code>html</code> tag.\n",
    "*   <code>p.outer-text</code> — finds all <code>p</code> tags with a class of <code>outer-text</code>.\n",
    "*   <code>p#first</code> — finds all <code>p</code> tags with an id of <code>first</code>.\n",
    "*   <code>body p.outer-text</code> — finds any <code>p</code> tags with a class of <code>outer-text</code> inside of a <code>body</code> tag.\n",
    "\n",
    "If you want to learn more about CSS selectors, you can check this [link](https://developer.mozilla.org/en-US/docs/Learn/CSS/Building_blocks/Selectors).\n",
    "\n",
    "The `select()` method of the `BeautifulSoup` object returns a list of all the HTML tags that match the given CSS selector."
   ]
  },
  {
   "attachments": {},
   "cell_type": "markdown",
   "metadata": {},
   "source": [
    "\n",
    "👨‍💻 There is an open-source chrome extension named [Selector Gadget](https://chrome.google.com/webstore/detail/selectorgadget/mhjhnkcfbdhnjickkkdbjoemdmbfginb) that makes CSS selector generation and discovery on complicated sites a breeze."
   ]
  },
  {
   "cell_type": "code",
   "execution_count": 77,
   "metadata": {},
   "outputs": [
    {
     "data": {
      "text/plain": [
       "[<a href=\"item?id=35426482\">Launch HN: OutSail (YC W23) – Wingsails to reduce cargo ship fuel consumption</a>,\n",
       " <a href=\"https://github.com/system76/firmware-open\">System76 Open Firmware</a>,\n",
       " <a href=\"item?id=35424807\">Ask HN: Who is hiring? (April 2023)</a>,\n",
       " <a href=\"https://mullvad.net/en/browser\">The Mullvad Browser</a>,\n",
       " <a href=\"https://github.com/hocus-dev/hocus\">Show HN: Hocus – self-hosted alternative to GitHub Codespaces using Firecracker</a>,\n",
       " <a href=\"https://www.easypost.com/careers\" rel=\"nofollow\">EasyPost (YC S13) Is Hiring</a>,\n",
       " <a href=\"https://fas.org/blogs/security/2023/04/volkel-nuclear-weapon-accident/\">Was there a U.S. nuclear weapons accident at a Dutch air base?</a>,\n",
       " <a href=\"https://www.inverse.com/input/features/tropetrainer-thomas-buchler-torah-software\">His software sang the words of God. Then it went silent</a>,\n",
       " <a href=\"https://www.economist.com/business/2023/03/30/alibaba-breaks-itself-up-in-six\">Alibaba breaks itself up in six</a>,\n",
       " <a href=\"https://every.to/no-small-plans/how-to-do-hard-things\">How to do hard things</a>,\n",
       " <a href=\"https://publicdomainreview.org/collection/blights-of-the-bookish\">An Essay on Diseases Incidental to Literary and Sedentary Persons (1768)</a>,\n",
       " <a href=\"item?id=35424805\">Ask HN: Who wants to be hired? (April 2023)</a>,\n",
       " <a href=\"https://www.youtube.com/watch?v=jZvQzkFcKEM\">Stop-Motion Movies Are Animated at Aardman [video]</a>,\n",
       " <a href=\"http://web.archive.org/web/20180516153837/http://www.adreca.net/NAND-Flash-Data-Recovery-Cookbook.pdf\">NAND Flash Data Recovery Cookbook (2013) [pdf]</a>,\n",
       " <a href=\"https://english.elpais.com/science-tech/2023-04-01/do-you-need-a-yearly-checkup-experts-warn-that-they-carry-risks-and-do-not-reduce-mortality.html\">Experts warn yearly checkups carry risks and do not reduce mortality</a>,\n",
       " <a href=\"https://jeremykun.com/2023/04/01/were-knot-friends/\">We're Knot Friends</a>,\n",
       " <a href=\"http://richg42.blogspot.com/2023/04/a-dead-simple-lossless-or-lossy-lz4.html\">Near-lossless image formats using ultra-fast LZ codecs</a>,\n",
       " <a href=\"https://systemsapproach.substack.com/p/was-mpls-traffic-engineering-worthwhile\">Was MPLS Traffic Engineering Worthwhile?</a>,\n",
       " <a href=\"https://en.wikipedia.org/wiki/Destreza\">Destreza</a>,\n",
       " <a href=\"https://www.scmp.com/news/china/science/article/3214761/chinese-scientists-find-clue-bone-regrowth-deer-antler-study\">Deer don't regrow antlers the way lower animals regrow limbs</a>,\n",
       " <a href=\"https://twitter.com/lmsysorg/status/1642968294998306816\">State-of-the-art open-source chatbot, Vicuna-13B, just released model weights</a>,\n",
       " <a href=\"https://devblogs.microsoft.com/oldnewthing/20230403-00/?p=108005\">C++17 creates a practical use of the backward array index operator</a>,\n",
       " <a href=\"https://papers.ssrn.com/sol3/papers.cfm?abstract_id=2954173\">Algorithmic Entities (2017)</a>,\n",
       " <a href=\"https://www.gitlabfoundation.org\">Gitlab foundation established to increase people’s lifetime earnings</a>,\n",
       " <a href=\"https://askyourpdf.com/\" rel=\"nofollow\">PDF ChatBot – Upload, chat and interact with any PDF document</a>,\n",
       " <a href=\"https://www.hoelzel.it/kubernetes/2023/04/01/k3s-is-Often-the-Better-Choice.html\">Comparing k3s with default Kubernetes</a>,\n",
       " <a href=\"https://hackaday.com/2023/04/03/tennis-balls-serve-as-decent-bicycle-tires-that-dont-easily-puncture/\">Tennis Balls Serve as Decent Bicycle Tires That Don’t Easily Puncture</a>,\n",
       " <a href=\"https://pubnix.pink\" rel=\"nofollow\">Show HN: Pubnix.pink, a public-access Void Linux system</a>,\n",
       " <a href=\"https://www.djangoproject.com/weblog/2023/apr/03/django-42-released/\">Django 4.2 Released</a>,\n",
       " <a href=\"https://twitter.com/DrJimFan/status/1642921475849203712\">Adobe Firefly vs. MidJourney AI image generation</a>]"
      ]
     },
     "execution_count": 77,
     "metadata": {},
     "output_type": "execute_result"
    }
   ],
   "source": [
    "# Find all headlines\n",
    "headlines = soup.select('.titleline>a')\n",
    "headlines"
   ]
  },
  {
   "cell_type": "code",
   "execution_count": 75,
   "metadata": {},
   "outputs": [
    {
     "data": {
      "text/plain": [
       "['Launch HN: OutSail (YC W23) – Wingsails to reduce cargo ship fuel consumption',\n",
       " 'System76 Open Firmware',\n",
       " 'Ask HN: Who is hiring? (April 2023)',\n",
       " 'The Mullvad Browser',\n",
       " 'Show HN: Hocus – self-hosted alternative to GitHub Codespaces using Firecracker',\n",
       " 'EasyPost (YC S13) Is Hiring',\n",
       " 'Was there a U.S. nuclear weapons accident at a Dutch air base?',\n",
       " 'His software sang the words of God. Then it went silent',\n",
       " 'Alibaba breaks itself up in six',\n",
       " 'How to do hard things',\n",
       " 'An Essay on Diseases Incidental to Literary and Sedentary Persons (1768)',\n",
       " 'Ask HN: Who wants to be hired? (April 2023)',\n",
       " 'Stop-Motion Movies Are Animated at Aardman [video]',\n",
       " 'NAND Flash Data Recovery Cookbook (2013) [pdf]',\n",
       " 'Experts warn yearly checkups carry risks and do not reduce mortality',\n",
       " \"We're Knot Friends\",\n",
       " 'Near-lossless image formats using ultra-fast LZ codecs',\n",
       " 'Was MPLS Traffic Engineering Worthwhile?',\n",
       " 'Destreza',\n",
       " \"Deer don't regrow antlers the way lower animals regrow limbs\",\n",
       " 'State-of-the-art open-source chatbot, Vicuna-13B, just released model weights',\n",
       " 'C++17 creates a practical use of the backward array index operator',\n",
       " 'Algorithmic Entities (2017)',\n",
       " 'Gitlab foundation established to increase people’s lifetime earnings',\n",
       " 'PDF ChatBot – Upload, chat and interact with any PDF document',\n",
       " 'Comparing k3s with default Kubernetes',\n",
       " 'Tennis Balls Serve as Decent Bicycle Tires That Don’t Easily Puncture',\n",
       " 'Show HN: Pubnix.pink, a public-access Void Linux system',\n",
       " 'Django 4.2 Released',\n",
       " 'Adobe Firefly vs. MidJourney AI image generation']"
      ]
     },
     "execution_count": 75,
     "metadata": {},
     "output_type": "execute_result"
    }
   ],
   "source": [
    "# Get the text of the headlines\n",
    "headlines_text = [headline.text for headline in headlines]\n",
    "headlines_text"
   ]
  },
  {
   "cell_type": "code",
   "execution_count": 76,
   "metadata": {},
   "outputs": [
    {
     "data": {
      "text/plain": [
       "['item?id=35426482',\n",
       " 'https://github.com/system76/firmware-open',\n",
       " 'item?id=35424807',\n",
       " 'https://mullvad.net/en/browser',\n",
       " 'https://github.com/hocus-dev/hocus',\n",
       " 'https://www.easypost.com/careers',\n",
       " 'https://fas.org/blogs/security/2023/04/volkel-nuclear-weapon-accident/',\n",
       " 'https://www.inverse.com/input/features/tropetrainer-thomas-buchler-torah-software',\n",
       " 'https://www.economist.com/business/2023/03/30/alibaba-breaks-itself-up-in-six',\n",
       " 'https://every.to/no-small-plans/how-to-do-hard-things',\n",
       " 'https://publicdomainreview.org/collection/blights-of-the-bookish',\n",
       " 'item?id=35424805',\n",
       " 'https://www.youtube.com/watch?v=jZvQzkFcKEM',\n",
       " 'http://web.archive.org/web/20180516153837/http://www.adreca.net/NAND-Flash-Data-Recovery-Cookbook.pdf',\n",
       " 'https://english.elpais.com/science-tech/2023-04-01/do-you-need-a-yearly-checkup-experts-warn-that-they-carry-risks-and-do-not-reduce-mortality.html',\n",
       " 'https://jeremykun.com/2023/04/01/were-knot-friends/',\n",
       " 'http://richg42.blogspot.com/2023/04/a-dead-simple-lossless-or-lossy-lz4.html',\n",
       " 'https://systemsapproach.substack.com/p/was-mpls-traffic-engineering-worthwhile',\n",
       " 'https://en.wikipedia.org/wiki/Destreza',\n",
       " 'https://www.scmp.com/news/china/science/article/3214761/chinese-scientists-find-clue-bone-regrowth-deer-antler-study',\n",
       " 'https://twitter.com/lmsysorg/status/1642968294998306816',\n",
       " 'https://devblogs.microsoft.com/oldnewthing/20230403-00/?p=108005',\n",
       " 'https://papers.ssrn.com/sol3/papers.cfm?abstract_id=2954173',\n",
       " 'https://www.gitlabfoundation.org',\n",
       " 'https://askyourpdf.com/',\n",
       " 'https://www.hoelzel.it/kubernetes/2023/04/01/k3s-is-Often-the-Better-Choice.html',\n",
       " 'https://hackaday.com/2023/04/03/tennis-balls-serve-as-decent-bicycle-tires-that-dont-easily-puncture/',\n",
       " 'https://pubnix.pink',\n",
       " 'https://www.djangoproject.com/weblog/2023/apr/03/django-42-released/',\n",
       " 'https://twitter.com/DrJimFan/status/1642921475849203712']"
      ]
     },
     "execution_count": 76,
     "metadata": {},
     "output_type": "execute_result"
    }
   ],
   "source": [
    "# Extract the url of the headlines\n",
    "headlines_url = [headline.get('href') for headline in headlines]\n",
    "headlines_url"
   ]
  },
  {
   "attachments": {},
   "cell_type": "markdown",
   "metadata": {},
   "source": [
    "# 📑 Sources and References\n",
    "\n",
    "*   [Tutorial: Web Scraping with Python Using Beautiful Soup by *Vik Paruchuri*](https://www.dataquest.io/blog/web-scraping-python-using-beautiful-soup/)\n",
    "*   [Hacker News](https://news.ycombinator.com/)\n",
    "*   [HTTP response status codes, *Mozilla*](https://developer.mozilla.org/en-US/docs/Web/HTTP/Status)\n",
    "*   [Beautiful Soup](https://www.crummy.com/software/BeautifulSoup/)\n",
    "*   [CSS selectors, *Mozilla*](https://developer.mozilla.org/en-US/docs/Learn/CSS/Building_blocks/Selectors)\n",
    "*   [SelectorGadget](https://chrome.google.com/webstore/detail/selectorgadget/mhjhnkcfbdhnjickkkdbjoemdmbfginb)"
   ]
  }
 ],
 "metadata": {
  "kernelspec": {
   "display_name": "quera",
   "language": "python",
   "name": "python3"
  },
  "language_info": {
   "codemirror_mode": {
    "name": "ipython",
    "version": 3
   },
   "file_extension": ".py",
   "mimetype": "text/x-python",
   "name": "python",
   "nbconvert_exporter": "python",
   "pygments_lexer": "ipython3",
   "version": "3.9.7"
  },
  "orig_nbformat": 4,
  "vscode": {
   "interpreter": {
    "hash": "6a29b8f2e1e8b11f80c3820468461bcdbea6564508a235f61a46eeb59d48b308"
   }
  }
 },
 "nbformat": 4,
 "nbformat_minor": 2
}
